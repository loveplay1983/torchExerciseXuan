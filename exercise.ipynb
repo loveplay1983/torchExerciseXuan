{
 "cells": [
  {
   "cell_type": "markdown",
   "id": "965a893d",
   "metadata": {},
   "source": [
    "# Reference\n",
    "- namedtuple\n",
    "https://stackoverflow.com/questions/2970608/what-are-named-tuples-in-python\n",
    "```python\n",
    "from collections import namedtuple\n",
    "Point = namedtuple('Point', 'x y')\n",
    "pt1 = Point(1.0, 5.0)\n",
    "pt2 = Point(2.5, 1.5)\n",
    "\n",
    "from math import sqrt\n",
    "line_length = sqrt((pt1.x-pt2.x)**2 + (pt1.y-pt2.y)**2)\n",
    "```"
   ]
  },
  {
   "cell_type": "markdown",
   "id": "62fcd828",
   "metadata": {},
   "source": [
    "# stack vs cat"
   ]
  },
  {
   "cell_type": "code",
   "execution_count": 1,
   "id": "29693102",
   "metadata": {},
   "outputs": [],
   "source": [
    "import torch"
   ]
  },
  {
   "cell_type": "code",
   "execution_count": 2,
   "id": "b2257a69",
   "metadata": {},
   "outputs": [],
   "source": [
    "t1 = torch.tensor([1,1,1])\n",
    "t2 = torch.tensor([2,2,2])\n",
    "t3 = torch.tensor([3,3,3])"
   ]
  },
  {
   "cell_type": "code",
   "execution_count": 3,
   "id": "c3f1c430",
   "metadata": {},
   "outputs": [
    {
     "data": {
      "text/plain": [
       "torch.Size([3])"
      ]
     },
     "execution_count": 3,
     "metadata": {},
     "output_type": "execute_result"
    }
   ],
   "source": [
    "t1.shape"
   ]
  },
  {
   "cell_type": "code",
   "execution_count": 4,
   "id": "7f12e176",
   "metadata": {},
   "outputs": [
    {
     "data": {
      "text/plain": [
       "torch.Size([1, 3])"
      ]
     },
     "execution_count": 4,
     "metadata": {},
     "output_type": "execute_result"
    }
   ],
   "source": [
    "t1.unsqueeze(0).shape"
   ]
  },
  {
   "cell_type": "code",
   "execution_count": null,
   "id": "3ef7cc41",
   "metadata": {},
   "outputs": [],
   "source": []
  },
  {
   "cell_type": "code",
   "execution_count": 5,
   "id": "4fd510e4",
   "metadata": {},
   "outputs": [],
   "source": [
    "cat1 = torch.cat((t1,t2,t3), dim=0)  "
   ]
  },
  {
   "cell_type": "code",
   "execution_count": 6,
   "id": "5fd4a087",
   "metadata": {},
   "outputs": [
    {
     "data": {
      "text/plain": [
       "torch.Size([9])"
      ]
     },
     "execution_count": 6,
     "metadata": {},
     "output_type": "execute_result"
    }
   ],
   "source": [
    "cat1.shape   # same axis"
   ]
  },
  {
   "cell_type": "code",
   "execution_count": null,
   "id": "7ad90514",
   "metadata": {},
   "outputs": [],
   "source": []
  },
  {
   "cell_type": "code",
   "execution_count": null,
   "id": "feebe9e8",
   "metadata": {},
   "outputs": [],
   "source": []
  },
  {
   "cell_type": "code",
   "execution_count": 7,
   "id": "8d2d119a",
   "metadata": {},
   "outputs": [],
   "source": [
    "stack1 = torch.stack((t1, t2, t3), dim=0)"
   ]
  },
  {
   "cell_type": "code",
   "execution_count": 8,
   "id": "d4c10318",
   "metadata": {},
   "outputs": [
    {
     "data": {
      "text/plain": [
       "torch.Size([3, 3])"
      ]
     },
     "execution_count": 8,
     "metadata": {},
     "output_type": "execute_result"
    }
   ],
   "source": [
    "stack1.shape   # new axis"
   ]
  },
  {
   "cell_type": "code",
   "execution_count": null,
   "id": "99699256",
   "metadata": {},
   "outputs": [],
   "source": []
  },
  {
   "cell_type": "code",
   "execution_count": 9,
   "id": "8baf50d6",
   "metadata": {},
   "outputs": [
    {
     "data": {
      "text/plain": [
       "tensor([[1, 1, 1],\n",
       "        [2, 2, 2],\n",
       "        [3, 3, 3]])"
      ]
     },
     "execution_count": 9,
     "metadata": {},
     "output_type": "execute_result"
    }
   ],
   "source": [
    "torch.cat(\n",
    "    (\n",
    "        t1.unsqueeze(0),\n",
    "        t2.unsqueeze(0),\n",
    "        t3.unsqueeze(0)\n",
    "    ),\n",
    "    dim=0\n",
    ")"
   ]
  },
  {
   "cell_type": "code",
   "execution_count": 10,
   "id": "71571722",
   "metadata": {},
   "outputs": [
    {
     "data": {
      "text/plain": [
       "torch.Size([3, 3])"
      ]
     },
     "execution_count": 10,
     "metadata": {},
     "output_type": "execute_result"
    }
   ],
   "source": [
    "torch.cat(\n",
    "    (\n",
    "        t1.unsqueeze(0),\n",
    "        t2.unsqueeze(0),\n",
    "        t3.unsqueeze(0)\n",
    "    ),\n",
    "    dim=0\n",
    ").shape"
   ]
  },
  {
   "cell_type": "code",
   "execution_count": null,
   "id": "a38622d9",
   "metadata": {},
   "outputs": [],
   "source": []
  },
  {
   "cell_type": "code",
   "execution_count": null,
   "id": "ed9d702a",
   "metadata": {},
   "outputs": [],
   "source": []
  },
  {
   "cell_type": "code",
   "execution_count": 11,
   "id": "90f9fbfc",
   "metadata": {},
   "outputs": [
    {
     "data": {
      "text/plain": [
       "tensor([[1, 1, 1],\n",
       "        [2, 2, 2],\n",
       "        [3, 3, 3]])"
      ]
     },
     "execution_count": 11,
     "metadata": {},
     "output_type": "execute_result"
    }
   ],
   "source": [
    "torch.stack(\n",
    "    (t1, t2, t3),\n",
    "    dim=0\n",
    ")"
   ]
  },
  {
   "cell_type": "code",
   "execution_count": 12,
   "id": "5825f332",
   "metadata": {},
   "outputs": [
    {
     "data": {
      "text/plain": [
       "tensor([[1, 2, 3],\n",
       "        [1, 2, 3],\n",
       "        [1, 2, 3]])"
      ]
     },
     "execution_count": 12,
     "metadata": {},
     "output_type": "execute_result"
    }
   ],
   "source": [
    "torch.stack(\n",
    "    (t1, t2, t3),\n",
    "    dim=1\n",
    ")"
   ]
  },
  {
   "cell_type": "code",
   "execution_count": null,
   "id": "ec103917",
   "metadata": {},
   "outputs": [],
   "source": []
  },
  {
   "cell_type": "code",
   "execution_count": null,
   "id": "51fea622",
   "metadata": {},
   "outputs": [],
   "source": []
  },
  {
   "cell_type": "markdown",
   "id": "67c5e887",
   "metadata": {},
   "source": [
    "# Run builder"
   ]
  },
  {
   "cell_type": "code",
   "execution_count": 13,
   "id": "ece22a11",
   "metadata": {},
   "outputs": [],
   "source": [
    "from collections import OrderedDict\n",
    "from collections import namedtuple\n",
    "from itertools import product"
   ]
  },
  {
   "cell_type": "code",
   "execution_count": 14,
   "id": "a2bcc939",
   "metadata": {},
   "outputs": [],
   "source": [
    "class RunBuilder():\n",
    "    @staticmethod\n",
    "    def get_runs(params):\n",
    "        Run = namedtuple(\"testRun\", params.keys())\n",
    "        \n",
    "        runs = []\n",
    "        for v in product(*params.values()):\n",
    "            runs.append(Run(*v))\n",
    "        return runs"
   ]
  },
  {
   "cell_type": "code",
   "execution_count": 15,
   "id": "6cfe4526",
   "metadata": {},
   "outputs": [],
   "source": [
    "params = OrderedDict(\n",
    "    lr = [.01, .001],\n",
    "    batch_size = [1000, 10000]\n",
    ")"
   ]
  },
  {
   "cell_type": "code",
   "execution_count": 16,
   "id": "116cbc89",
   "metadata": {
    "scrolled": true
   },
   "outputs": [
    {
     "name": "stdout",
     "output_type": "stream",
     "text": [
      "OrderedDict([('lr', [0.01, 0.001]), ('batch_size', [1000, 10000])])\n"
     ]
    }
   ],
   "source": [
    "print(params)"
   ]
  },
  {
   "cell_type": "code",
   "execution_count": 17,
   "id": "d7b6a317",
   "metadata": {},
   "outputs": [
    {
     "name": "stdout",
     "output_type": "stream",
     "text": [
      "(0.01, 1000)\n",
      "test(lr=0.01, batch_size=1000)\n",
      "(0.01, 10000)\n",
      "test(lr=0.01, batch_size=10000)\n",
      "(0.001, 1000)\n",
      "test(lr=0.001, batch_size=1000)\n",
      "(0.001, 10000)\n",
      "test(lr=0.001, batch_size=10000)\n"
     ]
    }
   ],
   "source": [
    "a = []\n",
    "c = []\n",
    "b = namedtuple(\"test\", params.keys())\n",
    "for each in product(*params.values()):\n",
    "    print(each)\n",
    "    print(b(*each))"
   ]
  },
  {
   "cell_type": "code",
   "execution_count": 18,
   "id": "639dac06",
   "metadata": {},
   "outputs": [
    {
     "data": {
      "text/plain": [
       "[testRun(lr=0.01, batch_size=1000),\n",
       " testRun(lr=0.01, batch_size=10000),\n",
       " testRun(lr=0.001, batch_size=1000),\n",
       " testRun(lr=0.001, batch_size=10000)]"
      ]
     },
     "execution_count": 18,
     "metadata": {},
     "output_type": "execute_result"
    }
   ],
   "source": [
    "runs = RunBuilder.get_runs(params)\n",
    "runs"
   ]
  },
  {
   "cell_type": "code",
   "execution_count": 19,
   "id": "03d994e8",
   "metadata": {},
   "outputs": [
    {
     "name": "stdout",
     "output_type": "stream",
     "text": [
      "0.01\n",
      "1000\n",
      "0.01\n",
      "10000\n",
      "0.001\n",
      "1000\n",
      "0.001\n",
      "10000\n"
     ]
    }
   ],
   "source": [
    "for i in runs:\n",
    "    for j in i: \n",
    "        print(j)"
   ]
  },
  {
   "cell_type": "code",
   "execution_count": 20,
   "id": "2bbe5e4a",
   "metadata": {},
   "outputs": [
    {
     "data": {
      "text/plain": [
       "testRun(lr=0.01, batch_size=1000)"
      ]
     },
     "execution_count": 20,
     "metadata": {},
     "output_type": "execute_result"
    }
   ],
   "source": [
    "run = runs[0]\n",
    "run"
   ]
  },
  {
   "cell_type": "code",
   "execution_count": 21,
   "id": "ac6ab54c",
   "metadata": {},
   "outputs": [
    {
     "name": "stdout",
     "output_type": "stream",
     "text": [
      "0.01\n"
     ]
    }
   ],
   "source": [
    "print(run.lr)"
   ]
  },
  {
   "cell_type": "code",
   "execution_count": 22,
   "id": "2f38873d",
   "metadata": {},
   "outputs": [
    {
     "name": "stdout",
     "output_type": "stream",
     "text": [
      "testRun(lr=0.01, batch_size=1000) 0.01 1000\n",
      "testRun(lr=0.01, batch_size=1000) 0.01 1000\n",
      "testRun(lr=0.01, batch_size=1000) 0.01 1000\n",
      "testRun(lr=0.01, batch_size=1000) 0.01 1000\n"
     ]
    }
   ],
   "source": [
    "for each in runs:\n",
    "    print(run, run.lr, run.batch_size)"
   ]
  },
  {
   "cell_type": "code",
   "execution_count": 23,
   "id": "d385e759",
   "metadata": {},
   "outputs": [],
   "source": [
    "# another example\n",
    "params_gpu_cpu = OrderedDict(\n",
    "    lr = [.01, .001],\n",
    "    batch_size = [1000, 10000],\n",
    "    device=['cuda', 'cpu']\n",
    ")"
   ]
  },
  {
   "cell_type": "code",
   "execution_count": 24,
   "id": "0af420e3",
   "metadata": {},
   "outputs": [
    {
     "data": {
      "text/plain": [
       "[testRun(lr=0.01, batch_size=1000, device='cuda'),\n",
       " testRun(lr=0.01, batch_size=1000, device='cpu'),\n",
       " testRun(lr=0.01, batch_size=10000, device='cuda'),\n",
       " testRun(lr=0.01, batch_size=10000, device='cpu'),\n",
       " testRun(lr=0.001, batch_size=1000, device='cuda'),\n",
       " testRun(lr=0.001, batch_size=1000, device='cpu'),\n",
       " testRun(lr=0.001, batch_size=10000, device='cuda'),\n",
       " testRun(lr=0.001, batch_size=10000, device='cpu')]"
      ]
     },
     "execution_count": 24,
     "metadata": {},
     "output_type": "execute_result"
    }
   ],
   "source": [
    "runs = RunBuilder.get_runs(params_gpu_cpu)\n",
    "runs"
   ]
  },
  {
   "cell_type": "markdown",
   "id": "4d0fc3e4",
   "metadata": {},
   "source": [
    "### How to build the RunBuilder"
   ]
  },
  {
   "cell_type": "code",
   "execution_count": 25,
   "id": "5c39ba3f",
   "metadata": {},
   "outputs": [],
   "source": [
    "params = OrderedDict(\n",
    "    lr = [.01, .001],\n",
    "    batch_size = [1000, 10000]\n",
    ")"
   ]
  },
  {
   "cell_type": "code",
   "execution_count": 26,
   "id": "9c19b01d",
   "metadata": {},
   "outputs": [
    {
     "data": {
      "text/plain": [
       "odict_keys(['lr', 'batch_size'])"
      ]
     },
     "execution_count": 26,
     "metadata": {},
     "output_type": "execute_result"
    }
   ],
   "source": [
    "params.keys()"
   ]
  },
  {
   "cell_type": "code",
   "execution_count": 27,
   "id": "243975c2",
   "metadata": {},
   "outputs": [
    {
     "data": {
      "text/plain": [
       "odict_values([[0.01, 0.001], [1000, 10000]])"
      ]
     },
     "execution_count": 27,
     "metadata": {},
     "output_type": "execute_result"
    }
   ],
   "source": [
    "params.values()"
   ]
  },
  {
   "cell_type": "code",
   "execution_count": 28,
   "id": "8ed1a7f9",
   "metadata": {},
   "outputs": [],
   "source": [
    "Run = namedtuple(\"Run\", params.keys())"
   ]
  },
  {
   "cell_type": "code",
   "execution_count": 29,
   "id": "61e98026",
   "metadata": {},
   "outputs": [
    {
     "data": {
      "text/plain": [
       "[Run(lr=0.01, batch_size=1000),\n",
       " Run(lr=0.01, batch_size=10000),\n",
       " Run(lr=0.001, batch_size=1000),\n",
       " Run(lr=0.001, batch_size=10000)]"
      ]
     },
     "execution_count": 29,
     "metadata": {},
     "output_type": "execute_result"
    }
   ],
   "source": [
    "runs = []\n",
    "for v in product(*params.values()):\n",
    "    runs.append(Run(*v))\n",
    "runs"
   ]
  },
  {
   "cell_type": "code",
   "execution_count": 30,
   "id": "0109c9c0",
   "metadata": {},
   "outputs": [
    {
     "name": "stdout",
     "output_type": "stream",
     "text": [
      "comment: -testRun(lr=0.01, batch_size=1000) lr=0.01, batch_size=1000\n",
      "comment: -testRun(lr=0.01, batch_size=10000) lr=0.01, batch_size=10000\n",
      "comment: -testRun(lr=0.001, batch_size=1000) lr=0.001, batch_size=1000\n",
      "comment: -testRun(lr=0.001, batch_size=10000) lr=0.001, batch_size=10000\n"
     ]
    }
   ],
   "source": [
    "for run in RunBuilder.get_runs(params):\n",
    "    comment = f\"-{run}\"\n",
    "    print(f\"comment: {comment} lr={run.lr}, batch_size={run.batch_size}\")"
   ]
  },
  {
   "cell_type": "code",
   "execution_count": null,
   "id": "496b1f1b",
   "metadata": {},
   "outputs": [],
   "source": []
  },
  {
   "cell_type": "code",
   "execution_count": null,
   "id": "47c84e17",
   "metadata": {},
   "outputs": [],
   "source": []
  },
  {
   "cell_type": "code",
   "execution_count": null,
   "id": "292ab44f",
   "metadata": {},
   "outputs": [],
   "source": []
  },
  {
   "cell_type": "markdown",
   "id": "0541a00d",
   "metadata": {},
   "source": [
    "# CNN example with paramters tuning"
   ]
  },
  {
   "cell_type": "code",
   "execution_count": 31,
   "id": "f1c4dcf6",
   "metadata": {},
   "outputs": [],
   "source": [
    "import torch\n",
    "import torch.nn as nn\n",
    "import torch.optim as optim\n",
    "import torch.nn.functional as F\n",
    "import torchvision\n",
    "import torchvision.transforms as transforms"
   ]
  },
  {
   "cell_type": "code",
   "execution_count": 32,
   "id": "110c9fd1",
   "metadata": {},
   "outputs": [],
   "source": [
    "from torch.utils.data import DataLoader\n",
    "from torch.utils.tensorboard import SummaryWriter\n",
    "from IPython.display import display, clear_output"
   ]
  },
  {
   "cell_type": "code",
   "execution_count": 33,
   "id": "3b822c2d",
   "metadata": {},
   "outputs": [],
   "source": [
    "import pandas as pd\n",
    "import time\n",
    "import json"
   ]
  },
  {
   "cell_type": "code",
   "execution_count": 34,
   "id": "cec190f3",
   "metadata": {},
   "outputs": [],
   "source": [
    "from itertools import product\n",
    "from collections import namedtuple\n",
    "from collections import OrderedDict"
   ]
  },
  {
   "cell_type": "code",
   "execution_count": 35,
   "id": "69c4a5e8",
   "metadata": {},
   "outputs": [],
   "source": [
    "class Network(nn.Module):\n",
    "    def __init__(self):\n",
    "        super().__init__()\n",
    "        self.conv1 = nn.Conv2d(in_channels=1, \n",
    "                               out_channels=6,\n",
    "                               kernel_size=5)\n",
    "        self.conv2 = nn.Conv2d(in_channels=6, \n",
    "                               out_channels=12,\n",
    "                               kernel_size=5)\n",
    "        self.fc1 = nn.Linear(in_features=12*4*4,\n",
    "                             out_features=120)\n",
    "        self.fc2 = nn.Linear(in_features=120,\n",
    "                             out_features=60)\n",
    "        self.out = nn.Linear(in_features=60,\n",
    "                             out_features=10)\n",
    "        \n",
    "    def forward(self, t):\n",
    "        \n",
    "        t = F.relu(self.conv1(t))\n",
    "        t = F.max_pool2d(t, kernel_size=2, stride=2)\n",
    "        \n",
    "        t = F.relu(self.conv2(t))\n",
    "        t = F.max_pool2d(t, kernel_size=2, stride=2)\n",
    "        \n",
    "        t = t.flatten(start_dim=1)\n",
    "        t = F.relu(self.fc1(t))\n",
    "        t = F.relu(self.fc2(t))\n",
    "        t = self.out(t)\n",
    "        \n",
    "        return t"
   ]
  },
  {
   "cell_type": "code",
   "execution_count": 36,
   "id": "b10bcbbc",
   "metadata": {},
   "outputs": [],
   "source": [
    "# flatten example\n",
    "\n",
    "t = torch.tensor([[[1, 2],\n",
    "                       [3, 4]],\n",
    "                      [[5, 6],\n",
    "                       [7, 8]]])"
   ]
  },
  {
   "cell_type": "code",
   "execution_count": 37,
   "id": "4a5d31e7",
   "metadata": {},
   "outputs": [
    {
     "data": {
      "text/plain": [
       "tensor([[[1, 2],\n",
       "         [3, 4]],\n",
       "\n",
       "        [[5, 6],\n",
       "         [7, 8]]])"
      ]
     },
     "execution_count": 37,
     "metadata": {},
     "output_type": "execute_result"
    }
   ],
   "source": [
    "t"
   ]
  },
  {
   "cell_type": "code",
   "execution_count": 38,
   "id": "2573ba72",
   "metadata": {},
   "outputs": [
    {
     "data": {
      "text/plain": [
       "torch.Size([2, 2, 2])"
      ]
     },
     "execution_count": 38,
     "metadata": {},
     "output_type": "execute_result"
    }
   ],
   "source": [
    "t.shape"
   ]
  },
  {
   "cell_type": "code",
   "execution_count": 39,
   "id": "b96b32ce",
   "metadata": {},
   "outputs": [],
   "source": [
    "class RunBuilder():\n",
    "    @staticmethod\n",
    "    def get_runs(params):\n",
    "        \n",
    "        Run = namedtuple(\"Run\", params.keys())\n",
    "        \n",
    "        runs = []\n",
    "        \n",
    "        for v in product(*params.values()):\n",
    "            runs.append(Run(*v))\n",
    "            \n",
    "        return runs"
   ]
  },
  {
   "cell_type": "code",
   "execution_count": 40,
   "id": "84323861",
   "metadata": {},
   "outputs": [],
   "source": [
    "class RunManager():\n",
    "    def __init__(self):\n",
    "        \n",
    "        self.epoch_count = 0\n",
    "        self.epoch_loss = 0\n",
    "        self.epoch_num_correct = 0\n",
    "        self.epoch_start_time = None\n",
    "        \n",
    "        self.run_params = None\n",
    "        self.run_count = 0\n",
    "        self.run_data = []\n",
    "        self.run_start_time = None\n",
    "        \n",
    "        self.network = None\n",
    "        self.loader = None\n",
    "        self.tb = None\n",
    "        \n",
    "    def begin_run(self, run, network, loader):\n",
    "        \n",
    "        self.run_start_time = time.time()\n",
    "\n",
    "        self.run_params = run\n",
    "        self.run_count += 1\n",
    "        \n",
    "        self.network = network\n",
    "        self.loader = loader\n",
    "        self.tb = SummaryWriter(comment=f'-{run}')\n",
    "        \n",
    "        images, labels = next(iter(self.loader))\n",
    "        grid = torchvision.utils.make_grid(images)\n",
    "\n",
    "        self.tb.add_image('images', grid)\n",
    "        self.tb.add_graph(\n",
    "             self.network\n",
    "            ,images.to(getattr(run, 'device', 'cpu'))\n",
    "        )\n",
    "        \n",
    "    def end_run(self):\n",
    "        self.tb.close()\n",
    "        self.epoch_count = 0   \n",
    "\n",
    "    def begin_epoch(self):\n",
    "        self.epoch_start_time = time.time()\n",
    "        \n",
    "        self.epoch_count += 1\n",
    "        self.epoch_loss = 0\n",
    "        self.epoch_num_correct = 0\n",
    "\n",
    "    def end_epoch(self):\n",
    "        \n",
    "        epoch_duration = time.time() - self.epoch_start_time\n",
    "        run_duration = time.time() - self.run_start_time\n",
    "        \n",
    "        loss = self.epoch_loss / len(self.loader.dataset)\n",
    "        accuracy = self.epoch_num_correct / len(self.loader.dataset)\n",
    "                \n",
    "        self.tb.add_scalar('Loss', loss, self.epoch_count)\n",
    "        self.tb.add_scalar('Accuracy', accuracy, self.epoch_count)\n",
    "        \n",
    "        for name, param in self.network.named_parameters():\n",
    "            self.tb.add_histogram(name, param, self.epoch_count)\n",
    "            self.tb.add_histogram(f'{name}.grad', param.grad, self.epoch_count)\n",
    "        \n",
    "        results = OrderedDict()\n",
    "        results[\"run\"] = self.run_count\n",
    "        results[\"epoch\"] = self.epoch_count\n",
    "        results['loss'] = loss\n",
    "        results[\"accuracy\"] = accuracy\n",
    "        results['epoch duration'] = epoch_duration\n",
    "        results['run duration'] = run_duration\n",
    "        for k,v in self.run_params._asdict().items(): results[k] = v\n",
    "        self.run_data.append(results)\n",
    "        \n",
    "        df = pd.DataFrame.from_dict(self.run_data, orient='columns')\n",
    "        \n",
    "        clear_output(wait=True)\n",
    "        display(df)\n",
    "        \n",
    "    def track_loss(self, loss, batch):\n",
    "        self.epoch_loss += loss.item() * batch[0].shape[0]\n",
    "        \n",
    "    def track_num_correct(self, preds, labels):\n",
    "        self.epoch_num_correct += self._get_num_correct(preds, labels)\n",
    "    \n",
    "    def _get_num_correct(self, preds, labels):\n",
    "        return preds.argmax(dim=1).eq(labels).sum().item()\n",
    "    \n",
    "    def save(self, fileName):\n",
    "        \n",
    "        pd.DataFrame.from_dict(\n",
    "            self.run_data\n",
    "            ,orient='columns'\n",
    "        ).to_csv(f'{fileName}.csv')\n",
    "        \n",
    "        with open(f'{fileName}.json', 'w', encoding='utf-8') as f:\n",
    "            json.dump(self.run_data, f, ensure_ascii=False, indent=4)"
   ]
  },
  {
   "cell_type": "code",
   "execution_count": 41,
   "id": "6a5dcead",
   "metadata": {},
   "outputs": [],
   "source": [
    "train_set = torchvision.datasets.FashionMNIST(\n",
    "    root = \"./data\",\n",
    "    train = True,\n",
    "    download=True,\n",
    "    transform=transforms.Compose([\n",
    "        transforms.ToTensor()\n",
    "    ])\n",
    ")"
   ]
  },
  {
   "cell_type": "code",
   "execution_count": 42,
   "id": "d6bc7929",
   "metadata": {},
   "outputs": [
    {
     "data": {
      "text/html": [
       "<div>\n",
       "<style scoped>\n",
       "    .dataframe tbody tr th:only-of-type {\n",
       "        vertical-align: middle;\n",
       "    }\n",
       "\n",
       "    .dataframe tbody tr th {\n",
       "        vertical-align: top;\n",
       "    }\n",
       "\n",
       "    .dataframe thead th {\n",
       "        text-align: right;\n",
       "    }\n",
       "</style>\n",
       "<table border=\"1\" class=\"dataframe\">\n",
       "  <thead>\n",
       "    <tr style=\"text-align: right;\">\n",
       "      <th></th>\n",
       "      <th>run</th>\n",
       "      <th>epoch</th>\n",
       "      <th>loss</th>\n",
       "      <th>accuracy</th>\n",
       "      <th>epoch duration</th>\n",
       "      <th>run duration</th>\n",
       "      <th>lr</th>\n",
       "      <th>batch_size</th>\n",
       "      <th>shuffle</th>\n",
       "    </tr>\n",
       "  </thead>\n",
       "  <tbody>\n",
       "    <tr>\n",
       "      <th>0</th>\n",
       "      <td>1</td>\n",
       "      <td>1</td>\n",
       "      <td>1.01771</td>\n",
       "      <td>0.607333</td>\n",
       "      <td>5.688169</td>\n",
       "      <td>6.351777</td>\n",
       "      <td>0.01</td>\n",
       "      <td>1000</td>\n",
       "      <td>True</td>\n",
       "    </tr>\n",
       "  </tbody>\n",
       "</table>\n",
       "</div>"
      ],
      "text/plain": [
       "   run  epoch     loss  accuracy  epoch duration  run duration    lr  \\\n",
       "0    1      1  1.01771  0.607333        5.688169      6.351777  0.01   \n",
       "\n",
       "   batch_size  shuffle  \n",
       "0        1000     True  "
      ]
     },
     "metadata": {},
     "output_type": "display_data"
    }
   ],
   "source": [
    "params = OrderedDict(\n",
    "    lr = [.01],\n",
    "    batch_size = [1000],\n",
    "    shuffle=[True]\n",
    ")\n",
    "\n",
    "m = RunManager()\n",
    "\n",
    "for run in RunBuilder.get_runs(params):\n",
    "    \n",
    "    network = Network()\n",
    "    loader = DataLoader(train_set, batch_size=run.batch_size, shuffle=run.shuffle)\n",
    "    optimizer = optim.Adam(network.parameters(), lr=run.lr)\n",
    "    \n",
    "    \n",
    "    m.begin_run(run, network, loader)\n",
    "    for epoch in range(1):\n",
    "        m.begin_epoch()\n",
    "        for batch in loader:\n",
    "            \n",
    "            images, labels = batch\n",
    "            preds = network(images) # Pass Batch\n",
    "            loss = F.cross_entropy(preds, labels) # Calculate Loss\n",
    "            optimizer.zero_grad() # Zero Gradients\n",
    "            loss.backward() # Calculate Gradients\n",
    "            optimizer.step() # Update Weights\n",
    "            \n",
    "            m.track_loss(loss, batch)\n",
    "            m.track_num_correct(preds, labels)  \n",
    "        m.end_epoch()\n",
    "    m.end_run()\n",
    "m.save('results')"
   ]
  },
  {
   "cell_type": "code",
   "execution_count": 43,
   "id": "5765c8dc",
   "metadata": {},
   "outputs": [
    {
     "data": {
      "text/html": [
       "<div>\n",
       "<style scoped>\n",
       "    .dataframe tbody tr th:only-of-type {\n",
       "        vertical-align: middle;\n",
       "    }\n",
       "\n",
       "    .dataframe tbody tr th {\n",
       "        vertical-align: top;\n",
       "    }\n",
       "\n",
       "    .dataframe thead th {\n",
       "        text-align: right;\n",
       "    }\n",
       "</style>\n",
       "<table border=\"1\" class=\"dataframe\">\n",
       "  <thead>\n",
       "    <tr style=\"text-align: right;\">\n",
       "      <th></th>\n",
       "      <th>run</th>\n",
       "      <th>epoch</th>\n",
       "      <th>loss</th>\n",
       "      <th>accuracy</th>\n",
       "      <th>epoch duration</th>\n",
       "      <th>run duration</th>\n",
       "      <th>lr</th>\n",
       "      <th>batch_size</th>\n",
       "      <th>num_workers</th>\n",
       "    </tr>\n",
       "  </thead>\n",
       "  <tbody>\n",
       "    <tr>\n",
       "      <th>0</th>\n",
       "      <td>1</td>\n",
       "      <td>1</td>\n",
       "      <td>0.592946</td>\n",
       "      <td>0.775633</td>\n",
       "      <td>6.328691</td>\n",
       "      <td>6.404869</td>\n",
       "      <td>0.01</td>\n",
       "      <td>100</td>\n",
       "      <td>0</td>\n",
       "    </tr>\n",
       "  </tbody>\n",
       "</table>\n",
       "</div>"
      ],
      "text/plain": [
       "   run  epoch      loss  accuracy  epoch duration  run duration    lr  \\\n",
       "0    1      1  0.592946  0.775633        6.328691      6.404869  0.01   \n",
       "\n",
       "   batch_size  num_workers  \n",
       "0         100            0  "
      ]
     },
     "metadata": {},
     "output_type": "display_data"
    }
   ],
   "source": [
    "# Pytorch dataloader num_workers\n",
    "\n",
    "params = OrderedDict(\n",
    "    lr = [.01],\n",
    "    batch_size =[100], # 1000, 10000\n",
    "    num_workers = [0], # 1,2,4,8,16\n",
    "    # shuffle=[True, False]\n",
    ")\n",
    "\n",
    "m = RunManager()\n",
    "\n",
    "for run in RunBuilder.get_runs(params):\n",
    "    \n",
    "    network = Network()\n",
    "    loader = DataLoader(train_set, \n",
    "                        batch_size=run.batch_size, \n",
    "                        num_workers=run.num_workers)\n",
    "    optimizer = optim.Adam(network.parameters(), lr=run.lr)\n",
    "    \n",
    "    m.begin_run(run, network, loader)\n",
    "    for epoch in range(1):\n",
    "        m.begin_epoch()\n",
    "        for batch in loader:\n",
    "            images, labels = batch\n",
    "            preds = network(images)\n",
    "            loss = F.cross_entropy(preds, labels)\n",
    "            optimizer.zero_grad()\n",
    "            loss.backward()\n",
    "            optimizer.step()\n",
    "            \n",
    "            m.track_loss(loss, batch)\n",
    "            m.track_num_correct(preds, labels)\n",
    "        m.end_epoch()\n",
    "    m.end_run()\n",
    "m.save(\"results\")"
   ]
  },
  {
   "cell_type": "code",
   "execution_count": null,
   "id": "c0757329",
   "metadata": {},
   "outputs": [],
   "source": []
  },
  {
   "cell_type": "code",
   "execution_count": null,
   "id": "740c1053",
   "metadata": {},
   "outputs": [],
   "source": []
  },
  {
   "cell_type": "markdown",
   "id": "30c618dc",
   "metadata": {},
   "source": [
    "# Pytorch and GPU"
   ]
  },
  {
   "cell_type": "code",
   "execution_count": 44,
   "id": "73983c99",
   "metadata": {
    "scrolled": true
   },
   "outputs": [
    {
     "data": {
      "text/plain": [
       "tensor([[[[1., 1., 1., 1., 1., 1., 1., 1., 1., 1., 1., 1., 1., 1., 1., 1., 1.,\n",
       "           1., 1., 1., 1., 1., 1., 1., 1., 1., 1., 1.],\n",
       "          [1., 1., 1., 1., 1., 1., 1., 1., 1., 1., 1., 1., 1., 1., 1., 1., 1.,\n",
       "           1., 1., 1., 1., 1., 1., 1., 1., 1., 1., 1.],\n",
       "          [1., 1., 1., 1., 1., 1., 1., 1., 1., 1., 1., 1., 1., 1., 1., 1., 1.,\n",
       "           1., 1., 1., 1., 1., 1., 1., 1., 1., 1., 1.],\n",
       "          [1., 1., 1., 1., 1., 1., 1., 1., 1., 1., 1., 1., 1., 1., 1., 1., 1.,\n",
       "           1., 1., 1., 1., 1., 1., 1., 1., 1., 1., 1.],\n",
       "          [1., 1., 1., 1., 1., 1., 1., 1., 1., 1., 1., 1., 1., 1., 1., 1., 1.,\n",
       "           1., 1., 1., 1., 1., 1., 1., 1., 1., 1., 1.],\n",
       "          [1., 1., 1., 1., 1., 1., 1., 1., 1., 1., 1., 1., 1., 1., 1., 1., 1.,\n",
       "           1., 1., 1., 1., 1., 1., 1., 1., 1., 1., 1.],\n",
       "          [1., 1., 1., 1., 1., 1., 1., 1., 1., 1., 1., 1., 1., 1., 1., 1., 1.,\n",
       "           1., 1., 1., 1., 1., 1., 1., 1., 1., 1., 1.],\n",
       "          [1., 1., 1., 1., 1., 1., 1., 1., 1., 1., 1., 1., 1., 1., 1., 1., 1.,\n",
       "           1., 1., 1., 1., 1., 1., 1., 1., 1., 1., 1.],\n",
       "          [1., 1., 1., 1., 1., 1., 1., 1., 1., 1., 1., 1., 1., 1., 1., 1., 1.,\n",
       "           1., 1., 1., 1., 1., 1., 1., 1., 1., 1., 1.],\n",
       "          [1., 1., 1., 1., 1., 1., 1., 1., 1., 1., 1., 1., 1., 1., 1., 1., 1.,\n",
       "           1., 1., 1., 1., 1., 1., 1., 1., 1., 1., 1.],\n",
       "          [1., 1., 1., 1., 1., 1., 1., 1., 1., 1., 1., 1., 1., 1., 1., 1., 1.,\n",
       "           1., 1., 1., 1., 1., 1., 1., 1., 1., 1., 1.],\n",
       "          [1., 1., 1., 1., 1., 1., 1., 1., 1., 1., 1., 1., 1., 1., 1., 1., 1.,\n",
       "           1., 1., 1., 1., 1., 1., 1., 1., 1., 1., 1.],\n",
       "          [1., 1., 1., 1., 1., 1., 1., 1., 1., 1., 1., 1., 1., 1., 1., 1., 1.,\n",
       "           1., 1., 1., 1., 1., 1., 1., 1., 1., 1., 1.],\n",
       "          [1., 1., 1., 1., 1., 1., 1., 1., 1., 1., 1., 1., 1., 1., 1., 1., 1.,\n",
       "           1., 1., 1., 1., 1., 1., 1., 1., 1., 1., 1.],\n",
       "          [1., 1., 1., 1., 1., 1., 1., 1., 1., 1., 1., 1., 1., 1., 1., 1., 1.,\n",
       "           1., 1., 1., 1., 1., 1., 1., 1., 1., 1., 1.],\n",
       "          [1., 1., 1., 1., 1., 1., 1., 1., 1., 1., 1., 1., 1., 1., 1., 1., 1.,\n",
       "           1., 1., 1., 1., 1., 1., 1., 1., 1., 1., 1.],\n",
       "          [1., 1., 1., 1., 1., 1., 1., 1., 1., 1., 1., 1., 1., 1., 1., 1., 1.,\n",
       "           1., 1., 1., 1., 1., 1., 1., 1., 1., 1., 1.],\n",
       "          [1., 1., 1., 1., 1., 1., 1., 1., 1., 1., 1., 1., 1., 1., 1., 1., 1.,\n",
       "           1., 1., 1., 1., 1., 1., 1., 1., 1., 1., 1.],\n",
       "          [1., 1., 1., 1., 1., 1., 1., 1., 1., 1., 1., 1., 1., 1., 1., 1., 1.,\n",
       "           1., 1., 1., 1., 1., 1., 1., 1., 1., 1., 1.],\n",
       "          [1., 1., 1., 1., 1., 1., 1., 1., 1., 1., 1., 1., 1., 1., 1., 1., 1.,\n",
       "           1., 1., 1., 1., 1., 1., 1., 1., 1., 1., 1.],\n",
       "          [1., 1., 1., 1., 1., 1., 1., 1., 1., 1., 1., 1., 1., 1., 1., 1., 1.,\n",
       "           1., 1., 1., 1., 1., 1., 1., 1., 1., 1., 1.],\n",
       "          [1., 1., 1., 1., 1., 1., 1., 1., 1., 1., 1., 1., 1., 1., 1., 1., 1.,\n",
       "           1., 1., 1., 1., 1., 1., 1., 1., 1., 1., 1.],\n",
       "          [1., 1., 1., 1., 1., 1., 1., 1., 1., 1., 1., 1., 1., 1., 1., 1., 1.,\n",
       "           1., 1., 1., 1., 1., 1., 1., 1., 1., 1., 1.],\n",
       "          [1., 1., 1., 1., 1., 1., 1., 1., 1., 1., 1., 1., 1., 1., 1., 1., 1.,\n",
       "           1., 1., 1., 1., 1., 1., 1., 1., 1., 1., 1.],\n",
       "          [1., 1., 1., 1., 1., 1., 1., 1., 1., 1., 1., 1., 1., 1., 1., 1., 1.,\n",
       "           1., 1., 1., 1., 1., 1., 1., 1., 1., 1., 1.],\n",
       "          [1., 1., 1., 1., 1., 1., 1., 1., 1., 1., 1., 1., 1., 1., 1., 1., 1.,\n",
       "           1., 1., 1., 1., 1., 1., 1., 1., 1., 1., 1.],\n",
       "          [1., 1., 1., 1., 1., 1., 1., 1., 1., 1., 1., 1., 1., 1., 1., 1., 1.,\n",
       "           1., 1., 1., 1., 1., 1., 1., 1., 1., 1., 1.],\n",
       "          [1., 1., 1., 1., 1., 1., 1., 1., 1., 1., 1., 1., 1., 1., 1., 1., 1.,\n",
       "           1., 1., 1., 1., 1., 1., 1., 1., 1., 1., 1.]]]])"
      ]
     },
     "execution_count": 44,
     "metadata": {},
     "output_type": "execute_result"
    }
   ],
   "source": [
    "\n",
    "t = torch.ones(1,1,28, 28)\n",
    "t"
   ]
  },
  {
   "cell_type": "code",
   "execution_count": 45,
   "id": "f169c0f9",
   "metadata": {},
   "outputs": [
    {
     "data": {
      "text/plain": [
       "Network(\n",
       "  (conv1): Conv2d(1, 6, kernel_size=(5, 5), stride=(1, 1))\n",
       "  (conv2): Conv2d(6, 12, kernel_size=(5, 5), stride=(1, 1))\n",
       "  (fc1): Linear(in_features=192, out_features=120, bias=True)\n",
       "  (fc2): Linear(in_features=120, out_features=60, bias=True)\n",
       "  (out): Linear(in_features=60, out_features=10, bias=True)\n",
       ")"
      ]
     },
     "execution_count": 45,
     "metadata": {},
     "output_type": "execute_result"
    }
   ],
   "source": [
    "network=Network()\n",
    "network"
   ]
  },
  {
   "cell_type": "code",
   "execution_count": 46,
   "id": "e40f361d",
   "metadata": {},
   "outputs": [],
   "source": [
    "t = t.cuda()\n",
    "network = network.cuda()"
   ]
  },
  {
   "cell_type": "code",
   "execution_count": 47,
   "id": "38b3773b",
   "metadata": {},
   "outputs": [
    {
     "name": "stderr",
     "output_type": "stream",
     "text": [
      "/home/loveplay1983/Workstation/Anaconda/anaconda/envs/torch/lib/python3.11/site-packages/torch/nn/modules/conv.py:459: UserWarning: Applied workaround for CuDNN issue, install nvrtc.so (Triggered internally at /opt/conda/conda-bld/pytorch_1682343995622/work/aten/src/ATen/native/cudnn/Conv_v8.cpp:80.)\n",
      "  return F.conv2d(input, weight, bias, self.stride,\n"
     ]
    },
    {
     "data": {
      "text/plain": [
       "device(type='cuda', index=0)"
      ]
     },
     "execution_count": 47,
     "metadata": {},
     "output_type": "execute_result"
    }
   ],
   "source": [
    "gpu_pred = network(t)\n",
    "gpu_pred.device"
   ]
  },
  {
   "cell_type": "code",
   "execution_count": 48,
   "id": "19f2561a",
   "metadata": {},
   "outputs": [],
   "source": [
    "# moving to cpu\n",
    "t = t.cpu()\n",
    "network = network.cpu()"
   ]
  },
  {
   "cell_type": "code",
   "execution_count": 49,
   "id": "9da93ceb",
   "metadata": {},
   "outputs": [
    {
     "data": {
      "text/plain": [
       "device(type='cpu')"
      ]
     },
     "execution_count": 49,
     "metadata": {},
     "output_type": "execute_result"
    }
   ],
   "source": [
    "cpu_pred = network(t)\n",
    "cpu_pred.device"
   ]
  },
  {
   "cell_type": "code",
   "execution_count": 50,
   "id": "d9f8c841",
   "metadata": {},
   "outputs": [],
   "source": [
    "t1 = torch.tensor([\n",
    "    [1,2],\n",
    "    [3,4]\n",
    "])\n",
    "\n",
    "t2 = torch.tensor([\n",
    "    [5,6],\n",
    "    [7,8]\n",
    "])"
   ]
  },
  {
   "cell_type": "code",
   "execution_count": 51,
   "id": "8b00bd25",
   "metadata": {},
   "outputs": [
    {
     "data": {
      "text/plain": [
       "(device(type='cpu'), device(type='cpu'))"
      ]
     },
     "execution_count": 51,
     "metadata": {},
     "output_type": "execute_result"
    }
   ],
   "source": [
    "t1.device, t2.device"
   ]
  },
  {
   "cell_type": "code",
   "execution_count": 52,
   "id": "49ad0719",
   "metadata": {},
   "outputs": [
    {
     "data": {
      "text/plain": [
       "device(type='cuda', index=0)"
      ]
     },
     "execution_count": 52,
     "metadata": {},
     "output_type": "execute_result"
    }
   ],
   "source": [
    "t1 = t1.to('cuda')\n",
    "t1.device"
   ]
  },
  {
   "cell_type": "code",
   "execution_count": 53,
   "id": "0dba39bd",
   "metadata": {},
   "outputs": [
    {
     "name": "stdout",
     "output_type": "stream",
     "text": [
      "Expected all tensors to be on the same device, but found at least two devices, cuda:0 and cpu!\n"
     ]
    }
   ],
   "source": [
    "try: t1+t2\n",
    "    \n",
    "except Exception as e: print(e)"
   ]
  },
  {
   "cell_type": "code",
   "execution_count": 54,
   "id": "0fd59962",
   "metadata": {},
   "outputs": [
    {
     "name": "stdout",
     "output_type": "stream",
     "text": [
      "Expected all tensors to be on the same device, but found at least two devices, cuda:0 and cpu!\n"
     ]
    }
   ],
   "source": [
    "try: t2+t1\n",
    "except Exception as e: print(e)"
   ]
  },
  {
   "cell_type": "code",
   "execution_count": 55,
   "id": "33bc2975",
   "metadata": {},
   "outputs": [
    {
     "data": {
      "text/plain": [
       "tensor([[ 6,  8],\n",
       "        [10, 12]], device='cuda:0')"
      ]
     },
     "execution_count": 55,
     "metadata": {},
     "output_type": "execute_result"
    }
   ],
   "source": [
    "t2 = t2.to(\"cuda\")\n",
    "t1+t2"
   ]
  },
  {
   "cell_type": "code",
   "execution_count": null,
   "id": "25874f0c",
   "metadata": {},
   "outputs": [],
   "source": []
  },
  {
   "cell_type": "code",
   "execution_count": 56,
   "id": "92296fc3",
   "metadata": {},
   "outputs": [
    {
     "data": {
      "text/plain": [
       "True"
      ]
     },
     "execution_count": 56,
     "metadata": {},
     "output_type": "execute_result"
    }
   ],
   "source": [
    "torch.cuda.is_available()"
   ]
  },
  {
   "cell_type": "code",
   "execution_count": 57,
   "id": "1438df40",
   "metadata": {},
   "outputs": [
    {
     "data": {
      "text/html": [
       "<div>\n",
       "<style scoped>\n",
       "    .dataframe tbody tr th:only-of-type {\n",
       "        vertical-align: middle;\n",
       "    }\n",
       "\n",
       "    .dataframe tbody tr th {\n",
       "        vertical-align: top;\n",
       "    }\n",
       "\n",
       "    .dataframe thead th {\n",
       "        text-align: right;\n",
       "    }\n",
       "</style>\n",
       "<table border=\"1\" class=\"dataframe\">\n",
       "  <thead>\n",
       "    <tr style=\"text-align: right;\">\n",
       "      <th></th>\n",
       "      <th>run</th>\n",
       "      <th>epoch</th>\n",
       "      <th>loss</th>\n",
       "      <th>accuracy</th>\n",
       "      <th>epoch duration</th>\n",
       "      <th>run duration</th>\n",
       "      <th>lr</th>\n",
       "      <th>batch_size</th>\n",
       "      <th>num_workers</th>\n",
       "      <th>device</th>\n",
       "    </tr>\n",
       "  </thead>\n",
       "  <tbody>\n",
       "    <tr>\n",
       "      <th>0</th>\n",
       "      <td>1</td>\n",
       "      <td>1</td>\n",
       "      <td>2.282136</td>\n",
       "      <td>0.114333</td>\n",
       "      <td>4.107421</td>\n",
       "      <td>11.373373</td>\n",
       "      <td>0.01</td>\n",
       "      <td>20000</td>\n",
       "      <td>1</td>\n",
       "      <td>cuda</td>\n",
       "    </tr>\n",
       "    <tr>\n",
       "      <th>1</th>\n",
       "      <td>2</td>\n",
       "      <td>1</td>\n",
       "      <td>2.283626</td>\n",
       "      <td>0.137500</td>\n",
       "      <td>4.995587</td>\n",
       "      <td>13.575877</td>\n",
       "      <td>0.01</td>\n",
       "      <td>20000</td>\n",
       "      <td>1</td>\n",
       "      <td>cpu</td>\n",
       "    </tr>\n",
       "  </tbody>\n",
       "</table>\n",
       "</div>"
      ],
      "text/plain": [
       "   run  epoch      loss  accuracy  epoch duration  run duration    lr  \\\n",
       "0    1      1  2.282136  0.114333        4.107421     11.373373  0.01   \n",
       "1    2      1  2.283626  0.137500        4.995587     13.575877  0.01   \n",
       "\n",
       "   batch_size  num_workers device  \n",
       "0       20000            1   cuda  \n",
       "1       20000            1    cpu  "
      ]
     },
     "metadata": {},
     "output_type": "display_data"
    }
   ],
   "source": [
    "# Using GPU\n",
    "params = OrderedDict(\n",
    "    lr = [.01],\n",
    "    batch_size = [20000],\n",
    "    num_workers = [1],\n",
    "    device = [\"cuda\", \"cpu\"]\n",
    ")\n",
    "\n",
    "\n",
    "m = RunManager()\n",
    "\n",
    "for run in RunBuilder.get_runs(params):\n",
    "    \n",
    "    device = torch.device(run.device)\n",
    "    network = Network().to(device)\n",
    "    loader = DataLoader(train_set, \\\n",
    "                        batch_size=run.batch_size, \n",
    "                        num_workers=run.num_workers)\n",
    "    optimizer=optim.Adam(network.parameters(), lr=run.lr)\n",
    "    \n",
    "    m.begin_run(run, network, loader)\n",
    "    \n",
    "    for epoch in range(1):\n",
    "        m.begin_epoch()\n",
    "        for batch in loader:\n",
    "            images = batch[0].to(device)\n",
    "            labels = batch[1].to(device)\n",
    "            preds = network(images)\n",
    "            loss = F.cross_entropy(preds, labels)\n",
    "            optimizer.zero_grad()\n",
    "            loss.backward()\n",
    "            optimizer.step()\n",
    "            \n",
    "            m.track_loss(loss, batch)\n",
    "            m.track_num_correct(preds, labels)\n",
    "        m.end_epoch()\n",
    "    m.end_run()\n",
    "m.save(\"results\")"
   ]
  },
  {
   "cell_type": "code",
   "execution_count": 58,
   "id": "a92f1e46",
   "metadata": {},
   "outputs": [
    {
     "data": {
      "text/html": [
       "<div>\n",
       "<style scoped>\n",
       "    .dataframe tbody tr th:only-of-type {\n",
       "        vertical-align: middle;\n",
       "    }\n",
       "\n",
       "    .dataframe tbody tr th {\n",
       "        vertical-align: top;\n",
       "    }\n",
       "\n",
       "    .dataframe thead th {\n",
       "        text-align: right;\n",
       "    }\n",
       "</style>\n",
       "<table border=\"1\" class=\"dataframe\">\n",
       "  <thead>\n",
       "    <tr style=\"text-align: right;\">\n",
       "      <th></th>\n",
       "      <th>run</th>\n",
       "      <th>epoch</th>\n",
       "      <th>loss</th>\n",
       "      <th>accuracy</th>\n",
       "      <th>epoch duration</th>\n",
       "      <th>run duration</th>\n",
       "      <th>lr</th>\n",
       "      <th>batch_size</th>\n",
       "      <th>num_workers</th>\n",
       "      <th>device</th>\n",
       "    </tr>\n",
       "  </thead>\n",
       "  <tbody>\n",
       "    <tr>\n",
       "      <th>0</th>\n",
       "      <td>1</td>\n",
       "      <td>1</td>\n",
       "      <td>2.282136</td>\n",
       "      <td>0.114333</td>\n",
       "      <td>4.107421</td>\n",
       "      <td>11.373373</td>\n",
       "      <td>0.01</td>\n",
       "      <td>20000</td>\n",
       "      <td>1</td>\n",
       "      <td>cuda</td>\n",
       "    </tr>\n",
       "    <tr>\n",
       "      <th>1</th>\n",
       "      <td>2</td>\n",
       "      <td>1</td>\n",
       "      <td>2.283626</td>\n",
       "      <td>0.137500</td>\n",
       "      <td>4.995587</td>\n",
       "      <td>13.575877</td>\n",
       "      <td>0.01</td>\n",
       "      <td>20000</td>\n",
       "      <td>1</td>\n",
       "      <td>cpu</td>\n",
       "    </tr>\n",
       "  </tbody>\n",
       "</table>\n",
       "</div>"
      ],
      "text/plain": [
       "   run  epoch      loss  accuracy  epoch duration  run duration    lr  \\\n",
       "0    1      1  2.282136  0.114333        4.107421     11.373373  0.01   \n",
       "1    2      1  2.283626  0.137500        4.995587     13.575877  0.01   \n",
       "\n",
       "   batch_size  num_workers device  \n",
       "0       20000            1   cuda  \n",
       "1       20000            1    cpu  "
      ]
     },
     "execution_count": 58,
     "metadata": {},
     "output_type": "execute_result"
    }
   ],
   "source": [
    "pd.DataFrame.from_dict(m.run_data).sort_values(\"epoch duration\")"
   ]
  },
  {
   "cell_type": "code",
   "execution_count": null,
   "id": "8cfadeb1",
   "metadata": {},
   "outputs": [],
   "source": []
  },
  {
   "cell_type": "code",
   "execution_count": null,
   "id": "dff4bba9",
   "metadata": {},
   "outputs": [],
   "source": []
  },
  {
   "cell_type": "markdown",
   "id": "a5824604",
   "metadata": {},
   "source": [
    "# Data normalization"
   ]
  },
  {
   "cell_type": "code",
   "execution_count": 59,
   "id": "872d6d7d",
   "metadata": {},
   "outputs": [
    {
     "data": {
      "text/plain": [
       "(tensor(0.2860), tensor(0.3530))"
      ]
     },
     "execution_count": 59,
     "metadata": {},
     "output_type": "execute_result"
    }
   ],
   "source": [
    "loader = DataLoader(train_set, batch_size=len(train_set), num_workers=1)\n",
    "data = next(iter(loader))\n",
    "data[0].mean(), data[0].std()"
   ]
  },
  {
   "cell_type": "code",
   "execution_count": 60,
   "id": "3ae36db9",
   "metadata": {},
   "outputs": [
    {
     "data": {
      "text/plain": [
       "(tensor(0.2860), tensor(0.3530))"
      ]
     },
     "execution_count": 60,
     "metadata": {},
     "output_type": "execute_result"
    }
   ],
   "source": [
    "loader = DataLoader(train_set, batch_size=1000, num_workers=1)\n",
    "num_of_pixels = len(train_set) * 28 * 28\n",
    "\n",
    "total_sum = 0\n",
    "for batch in loader: \n",
    "    total_sum += batch[0].sum()    \n",
    "mean = total_sum / num_of_pixels\n",
    "\n",
    "sum_of_squared_error = 0\n",
    "for batch in loader: sum_of_squared_error += ((batch[0] - mean).pow(2)).sum()\n",
    "std = torch.sqrt(sum_of_squared_error / num_of_pixels)\n",
    "\n",
    "mean, std"
   ]
  },
  {
   "cell_type": "code",
   "execution_count": 61,
   "id": "74c9ec5b",
   "metadata": {},
   "outputs": [],
   "source": [
    "import matplotlib.pyplot as plt"
   ]
  },
  {
   "cell_type": "code",
   "execution_count": 62,
   "id": "47e0f5be",
   "metadata": {
    "scrolled": true
   },
   "outputs": [],
   "source": [
    "# plt.hist(data[0].flatten())\n",
    "# plt.axvline(data[0].mean())"
   ]
  },
  {
   "cell_type": "code",
   "execution_count": 63,
   "id": "da30b780",
   "metadata": {},
   "outputs": [],
   "source": [
    "# Using mean and std\n",
    "\n",
    "train_set_normal = torchvision.datasets.FashionMNIST(\n",
    "    root=\"./data\",\n",
    "    train=True,\n",
    "    download=True,\n",
    "    transform=transforms.Compose([\n",
    "        transforms.ToTensor(),\n",
    "        transforms.Normalize(mean, std)\n",
    "    ])\n",
    ")"
   ]
  },
  {
   "cell_type": "code",
   "execution_count": 64,
   "id": "157df364",
   "metadata": {},
   "outputs": [
    {
     "data": {
      "text/plain": [
       "(tensor(-1.8838e-07), tensor(1.))"
      ]
     },
     "execution_count": 64,
     "metadata": {},
     "output_type": "execute_result"
    }
   ],
   "source": [
    "loader = DataLoader(train_set_normal, batch_size=len(train_set), num_workers=1)\n",
    "data = next(iter(loader))\n",
    "data[0].mean(), data[0].std()"
   ]
  },
  {
   "cell_type": "code",
   "execution_count": 65,
   "id": "faa268e6",
   "metadata": {},
   "outputs": [],
   "source": [
    "# plt.hist(data[0].flatten())\n",
    "# plt.axvline(data[0].mean())"
   ]
  },
  {
   "cell_type": "code",
   "execution_count": 66,
   "id": "a84d69e9",
   "metadata": {},
   "outputs": [],
   "source": [
    "trainsets = {\n",
    "    \"not_normal\": train_set,\n",
    "    \"normal\": train_set_normal\n",
    "}"
   ]
  },
  {
   "cell_type": "code",
   "execution_count": 67,
   "id": "e0617474",
   "metadata": {},
   "outputs": [],
   "source": [
    "params = OrderedDict(\n",
    "    lr = [.01],\n",
    "    batch_size = [1000],\n",
    "    num_workers = [1],\n",
    "    device = [\"cuda\"],\n",
    "    trainset = [\"not_normal\", \"normal\"]\n",
    ")"
   ]
  },
  {
   "cell_type": "code",
   "execution_count": 68,
   "id": "cf2b33d4",
   "metadata": {},
   "outputs": [
    {
     "data": {
      "text/html": [
       "<div>\n",
       "<style scoped>\n",
       "    .dataframe tbody tr th:only-of-type {\n",
       "        vertical-align: middle;\n",
       "    }\n",
       "\n",
       "    .dataframe tbody tr th {\n",
       "        vertical-align: top;\n",
       "    }\n",
       "\n",
       "    .dataframe thead th {\n",
       "        text-align: right;\n",
       "    }\n",
       "</style>\n",
       "<table border=\"1\" class=\"dataframe\">\n",
       "  <thead>\n",
       "    <tr style=\"text-align: right;\">\n",
       "      <th></th>\n",
       "      <th>run</th>\n",
       "      <th>epoch</th>\n",
       "      <th>loss</th>\n",
       "      <th>accuracy</th>\n",
       "      <th>epoch duration</th>\n",
       "      <th>run duration</th>\n",
       "      <th>lr</th>\n",
       "      <th>batch_size</th>\n",
       "      <th>num_workers</th>\n",
       "      <th>device</th>\n",
       "      <th>trainset</th>\n",
       "    </tr>\n",
       "  </thead>\n",
       "  <tbody>\n",
       "    <tr>\n",
       "      <th>0</th>\n",
       "      <td>1</td>\n",
       "      <td>1</td>\n",
       "      <td>1.012159</td>\n",
       "      <td>0.611050</td>\n",
       "      <td>3.610131</td>\n",
       "      <td>4.217925</td>\n",
       "      <td>0.01</td>\n",
       "      <td>1000</td>\n",
       "      <td>1</td>\n",
       "      <td>cuda</td>\n",
       "      <td>not_normal</td>\n",
       "    </tr>\n",
       "    <tr>\n",
       "      <th>1</th>\n",
       "      <td>1</td>\n",
       "      <td>2</td>\n",
       "      <td>0.549667</td>\n",
       "      <td>0.791583</td>\n",
       "      <td>3.815608</td>\n",
       "      <td>8.085014</td>\n",
       "      <td>0.01</td>\n",
       "      <td>1000</td>\n",
       "      <td>1</td>\n",
       "      <td>cuda</td>\n",
       "      <td>not_normal</td>\n",
       "    </tr>\n",
       "    <tr>\n",
       "      <th>2</th>\n",
       "      <td>1</td>\n",
       "      <td>3</td>\n",
       "      <td>0.448199</td>\n",
       "      <td>0.835700</td>\n",
       "      <td>3.796827</td>\n",
       "      <td>11.933259</td>\n",
       "      <td>0.01</td>\n",
       "      <td>1000</td>\n",
       "      <td>1</td>\n",
       "      <td>cuda</td>\n",
       "      <td>not_normal</td>\n",
       "    </tr>\n",
       "    <tr>\n",
       "      <th>3</th>\n",
       "      <td>1</td>\n",
       "      <td>4</td>\n",
       "      <td>0.397315</td>\n",
       "      <td>0.852417</td>\n",
       "      <td>3.597420</td>\n",
       "      <td>15.581885</td>\n",
       "      <td>0.01</td>\n",
       "      <td>1000</td>\n",
       "      <td>1</td>\n",
       "      <td>cuda</td>\n",
       "      <td>not_normal</td>\n",
       "    </tr>\n",
       "    <tr>\n",
       "      <th>4</th>\n",
       "      <td>1</td>\n",
       "      <td>5</td>\n",
       "      <td>0.360743</td>\n",
       "      <td>0.864300</td>\n",
       "      <td>3.581840</td>\n",
       "      <td>19.217166</td>\n",
       "      <td>0.01</td>\n",
       "      <td>1000</td>\n",
       "      <td>1</td>\n",
       "      <td>cuda</td>\n",
       "      <td>not_normal</td>\n",
       "    </tr>\n",
       "    <tr>\n",
       "      <th>5</th>\n",
       "      <td>1</td>\n",
       "      <td>6</td>\n",
       "      <td>0.334781</td>\n",
       "      <td>0.875033</td>\n",
       "      <td>3.766021</td>\n",
       "      <td>23.031758</td>\n",
       "      <td>0.01</td>\n",
       "      <td>1000</td>\n",
       "      <td>1</td>\n",
       "      <td>cuda</td>\n",
       "      <td>not_normal</td>\n",
       "    </tr>\n",
       "    <tr>\n",
       "      <th>6</th>\n",
       "      <td>1</td>\n",
       "      <td>7</td>\n",
       "      <td>0.317988</td>\n",
       "      <td>0.881183</td>\n",
       "      <td>3.802334</td>\n",
       "      <td>26.885738</td>\n",
       "      <td>0.01</td>\n",
       "      <td>1000</td>\n",
       "      <td>1</td>\n",
       "      <td>cuda</td>\n",
       "      <td>not_normal</td>\n",
       "    </tr>\n",
       "    <tr>\n",
       "      <th>7</th>\n",
       "      <td>1</td>\n",
       "      <td>8</td>\n",
       "      <td>0.303748</td>\n",
       "      <td>0.886667</td>\n",
       "      <td>3.719511</td>\n",
       "      <td>30.656826</td>\n",
       "      <td>0.01</td>\n",
       "      <td>1000</td>\n",
       "      <td>1</td>\n",
       "      <td>cuda</td>\n",
       "      <td>not_normal</td>\n",
       "    </tr>\n",
       "    <tr>\n",
       "      <th>8</th>\n",
       "      <td>1</td>\n",
       "      <td>9</td>\n",
       "      <td>0.292321</td>\n",
       "      <td>0.890867</td>\n",
       "      <td>3.541994</td>\n",
       "      <td>34.252670</td>\n",
       "      <td>0.01</td>\n",
       "      <td>1000</td>\n",
       "      <td>1</td>\n",
       "      <td>cuda</td>\n",
       "      <td>not_normal</td>\n",
       "    </tr>\n",
       "    <tr>\n",
       "      <th>9</th>\n",
       "      <td>1</td>\n",
       "      <td>10</td>\n",
       "      <td>0.279175</td>\n",
       "      <td>0.896267</td>\n",
       "      <td>3.515964</td>\n",
       "      <td>37.821379</td>\n",
       "      <td>0.01</td>\n",
       "      <td>1000</td>\n",
       "      <td>1</td>\n",
       "      <td>cuda</td>\n",
       "      <td>not_normal</td>\n",
       "    </tr>\n",
       "    <tr>\n",
       "      <th>10</th>\n",
       "      <td>1</td>\n",
       "      <td>11</td>\n",
       "      <td>0.271658</td>\n",
       "      <td>0.899750</td>\n",
       "      <td>3.617773</td>\n",
       "      <td>41.491612</td>\n",
       "      <td>0.01</td>\n",
       "      <td>1000</td>\n",
       "      <td>1</td>\n",
       "      <td>cuda</td>\n",
       "      <td>not_normal</td>\n",
       "    </tr>\n",
       "    <tr>\n",
       "      <th>11</th>\n",
       "      <td>1</td>\n",
       "      <td>12</td>\n",
       "      <td>0.266778</td>\n",
       "      <td>0.900283</td>\n",
       "      <td>3.632582</td>\n",
       "      <td>45.180828</td>\n",
       "      <td>0.01</td>\n",
       "      <td>1000</td>\n",
       "      <td>1</td>\n",
       "      <td>cuda</td>\n",
       "      <td>not_normal</td>\n",
       "    </tr>\n",
       "    <tr>\n",
       "      <th>12</th>\n",
       "      <td>1</td>\n",
       "      <td>13</td>\n",
       "      <td>0.261457</td>\n",
       "      <td>0.901883</td>\n",
       "      <td>3.744890</td>\n",
       "      <td>48.975786</td>\n",
       "      <td>0.01</td>\n",
       "      <td>1000</td>\n",
       "      <td>1</td>\n",
       "      <td>cuda</td>\n",
       "      <td>not_normal</td>\n",
       "    </tr>\n",
       "    <tr>\n",
       "      <th>13</th>\n",
       "      <td>1</td>\n",
       "      <td>14</td>\n",
       "      <td>0.252168</td>\n",
       "      <td>0.906317</td>\n",
       "      <td>3.689856</td>\n",
       "      <td>52.712023</td>\n",
       "      <td>0.01</td>\n",
       "      <td>1000</td>\n",
       "      <td>1</td>\n",
       "      <td>cuda</td>\n",
       "      <td>not_normal</td>\n",
       "    </tr>\n",
       "    <tr>\n",
       "      <th>14</th>\n",
       "      <td>1</td>\n",
       "      <td>15</td>\n",
       "      <td>0.249484</td>\n",
       "      <td>0.906500</td>\n",
       "      <td>3.836091</td>\n",
       "      <td>56.606449</td>\n",
       "      <td>0.01</td>\n",
       "      <td>1000</td>\n",
       "      <td>1</td>\n",
       "      <td>cuda</td>\n",
       "      <td>not_normal</td>\n",
       "    </tr>\n",
       "    <tr>\n",
       "      <th>15</th>\n",
       "      <td>1</td>\n",
       "      <td>16</td>\n",
       "      <td>0.243475</td>\n",
       "      <td>0.910250</td>\n",
       "      <td>3.669738</td>\n",
       "      <td>60.327568</td>\n",
       "      <td>0.01</td>\n",
       "      <td>1000</td>\n",
       "      <td>1</td>\n",
       "      <td>cuda</td>\n",
       "      <td>not_normal</td>\n",
       "    </tr>\n",
       "    <tr>\n",
       "      <th>16</th>\n",
       "      <td>1</td>\n",
       "      <td>17</td>\n",
       "      <td>0.237322</td>\n",
       "      <td>0.912200</td>\n",
       "      <td>3.649055</td>\n",
       "      <td>64.029450</td>\n",
       "      <td>0.01</td>\n",
       "      <td>1000</td>\n",
       "      <td>1</td>\n",
       "      <td>cuda</td>\n",
       "      <td>not_normal</td>\n",
       "    </tr>\n",
       "    <tr>\n",
       "      <th>17</th>\n",
       "      <td>1</td>\n",
       "      <td>18</td>\n",
       "      <td>0.236283</td>\n",
       "      <td>0.911567</td>\n",
       "      <td>3.651999</td>\n",
       "      <td>67.734567</td>\n",
       "      <td>0.01</td>\n",
       "      <td>1000</td>\n",
       "      <td>1</td>\n",
       "      <td>cuda</td>\n",
       "      <td>not_normal</td>\n",
       "    </tr>\n",
       "    <tr>\n",
       "      <th>18</th>\n",
       "      <td>1</td>\n",
       "      <td>19</td>\n",
       "      <td>0.231809</td>\n",
       "      <td>0.913867</td>\n",
       "      <td>3.678926</td>\n",
       "      <td>71.468807</td>\n",
       "      <td>0.01</td>\n",
       "      <td>1000</td>\n",
       "      <td>1</td>\n",
       "      <td>cuda</td>\n",
       "      <td>not_normal</td>\n",
       "    </tr>\n",
       "    <tr>\n",
       "      <th>19</th>\n",
       "      <td>1</td>\n",
       "      <td>20</td>\n",
       "      <td>0.227543</td>\n",
       "      <td>0.915600</td>\n",
       "      <td>3.646927</td>\n",
       "      <td>75.164638</td>\n",
       "      <td>0.01</td>\n",
       "      <td>1000</td>\n",
       "      <td>1</td>\n",
       "      <td>cuda</td>\n",
       "      <td>not_normal</td>\n",
       "    </tr>\n",
       "    <tr>\n",
       "      <th>20</th>\n",
       "      <td>2</td>\n",
       "      <td>1</td>\n",
       "      <td>0.885165</td>\n",
       "      <td>0.664833</td>\n",
       "      <td>6.101068</td>\n",
       "      <td>6.686627</td>\n",
       "      <td>0.01</td>\n",
       "      <td>1000</td>\n",
       "      <td>1</td>\n",
       "      <td>cuda</td>\n",
       "      <td>normal</td>\n",
       "    </tr>\n",
       "    <tr>\n",
       "      <th>21</th>\n",
       "      <td>2</td>\n",
       "      <td>2</td>\n",
       "      <td>0.455974</td>\n",
       "      <td>0.826517</td>\n",
       "      <td>6.189874</td>\n",
       "      <td>12.923975</td>\n",
       "      <td>0.01</td>\n",
       "      <td>1000</td>\n",
       "      <td>1</td>\n",
       "      <td>cuda</td>\n",
       "      <td>normal</td>\n",
       "    </tr>\n",
       "    <tr>\n",
       "      <th>22</th>\n",
       "      <td>2</td>\n",
       "      <td>3</td>\n",
       "      <td>0.376785</td>\n",
       "      <td>0.859983</td>\n",
       "      <td>6.129752</td>\n",
       "      <td>19.117173</td>\n",
       "      <td>0.01</td>\n",
       "      <td>1000</td>\n",
       "      <td>1</td>\n",
       "      <td>cuda</td>\n",
       "      <td>normal</td>\n",
       "    </tr>\n",
       "    <tr>\n",
       "      <th>23</th>\n",
       "      <td>2</td>\n",
       "      <td>4</td>\n",
       "      <td>0.342967</td>\n",
       "      <td>0.873533</td>\n",
       "      <td>5.956329</td>\n",
       "      <td>25.124707</td>\n",
       "      <td>0.01</td>\n",
       "      <td>1000</td>\n",
       "      <td>1</td>\n",
       "      <td>cuda</td>\n",
       "      <td>normal</td>\n",
       "    </tr>\n",
       "    <tr>\n",
       "      <th>24</th>\n",
       "      <td>2</td>\n",
       "      <td>5</td>\n",
       "      <td>0.325491</td>\n",
       "      <td>0.880067</td>\n",
       "      <td>5.881075</td>\n",
       "      <td>31.073844</td>\n",
       "      <td>0.01</td>\n",
       "      <td>1000</td>\n",
       "      <td>1</td>\n",
       "      <td>cuda</td>\n",
       "      <td>normal</td>\n",
       "    </tr>\n",
       "    <tr>\n",
       "      <th>25</th>\n",
       "      <td>2</td>\n",
       "      <td>6</td>\n",
       "      <td>0.306190</td>\n",
       "      <td>0.886933</td>\n",
       "      <td>5.876469</td>\n",
       "      <td>37.006929</td>\n",
       "      <td>0.01</td>\n",
       "      <td>1000</td>\n",
       "      <td>1</td>\n",
       "      <td>cuda</td>\n",
       "      <td>normal</td>\n",
       "    </tr>\n",
       "    <tr>\n",
       "      <th>26</th>\n",
       "      <td>2</td>\n",
       "      <td>7</td>\n",
       "      <td>0.290074</td>\n",
       "      <td>0.892417</td>\n",
       "      <td>5.892290</td>\n",
       "      <td>42.955295</td>\n",
       "      <td>0.01</td>\n",
       "      <td>1000</td>\n",
       "      <td>1</td>\n",
       "      <td>cuda</td>\n",
       "      <td>normal</td>\n",
       "    </tr>\n",
       "    <tr>\n",
       "      <th>27</th>\n",
       "      <td>2</td>\n",
       "      <td>8</td>\n",
       "      <td>0.280847</td>\n",
       "      <td>0.896400</td>\n",
       "      <td>5.909009</td>\n",
       "      <td>48.921670</td>\n",
       "      <td>0.01</td>\n",
       "      <td>1000</td>\n",
       "      <td>1</td>\n",
       "      <td>cuda</td>\n",
       "      <td>normal</td>\n",
       "    </tr>\n",
       "    <tr>\n",
       "      <th>28</th>\n",
       "      <td>2</td>\n",
       "      <td>9</td>\n",
       "      <td>0.271337</td>\n",
       "      <td>0.900117</td>\n",
       "      <td>5.861984</td>\n",
       "      <td>54.839768</td>\n",
       "      <td>0.01</td>\n",
       "      <td>1000</td>\n",
       "      <td>1</td>\n",
       "      <td>cuda</td>\n",
       "      <td>normal</td>\n",
       "    </tr>\n",
       "    <tr>\n",
       "      <th>29</th>\n",
       "      <td>2</td>\n",
       "      <td>10</td>\n",
       "      <td>0.260382</td>\n",
       "      <td>0.903100</td>\n",
       "      <td>5.869707</td>\n",
       "      <td>60.771396</td>\n",
       "      <td>0.01</td>\n",
       "      <td>1000</td>\n",
       "      <td>1</td>\n",
       "      <td>cuda</td>\n",
       "      <td>normal</td>\n",
       "    </tr>\n",
       "    <tr>\n",
       "      <th>30</th>\n",
       "      <td>2</td>\n",
       "      <td>11</td>\n",
       "      <td>0.249863</td>\n",
       "      <td>0.906967</td>\n",
       "      <td>5.883198</td>\n",
       "      <td>66.719548</td>\n",
       "      <td>0.01</td>\n",
       "      <td>1000</td>\n",
       "      <td>1</td>\n",
       "      <td>cuda</td>\n",
       "      <td>normal</td>\n",
       "    </tr>\n",
       "    <tr>\n",
       "      <th>31</th>\n",
       "      <td>2</td>\n",
       "      <td>12</td>\n",
       "      <td>0.242210</td>\n",
       "      <td>0.909300</td>\n",
       "      <td>5.890750</td>\n",
       "      <td>72.672142</td>\n",
       "      <td>0.01</td>\n",
       "      <td>1000</td>\n",
       "      <td>1</td>\n",
       "      <td>cuda</td>\n",
       "      <td>normal</td>\n",
       "    </tr>\n",
       "    <tr>\n",
       "      <th>32</th>\n",
       "      <td>2</td>\n",
       "      <td>13</td>\n",
       "      <td>0.239388</td>\n",
       "      <td>0.910817</td>\n",
       "      <td>5.902164</td>\n",
       "      <td>78.634251</td>\n",
       "      <td>0.01</td>\n",
       "      <td>1000</td>\n",
       "      <td>1</td>\n",
       "      <td>cuda</td>\n",
       "      <td>normal</td>\n",
       "    </tr>\n",
       "    <tr>\n",
       "      <th>33</th>\n",
       "      <td>2</td>\n",
       "      <td>14</td>\n",
       "      <td>0.238918</td>\n",
       "      <td>0.910467</td>\n",
       "      <td>5.864848</td>\n",
       "      <td>84.560913</td>\n",
       "      <td>0.01</td>\n",
       "      <td>1000</td>\n",
       "      <td>1</td>\n",
       "      <td>cuda</td>\n",
       "      <td>normal</td>\n",
       "    </tr>\n",
       "    <tr>\n",
       "      <th>34</th>\n",
       "      <td>2</td>\n",
       "      <td>15</td>\n",
       "      <td>0.238303</td>\n",
       "      <td>0.911050</td>\n",
       "      <td>5.903754</td>\n",
       "      <td>90.526949</td>\n",
       "      <td>0.01</td>\n",
       "      <td>1000</td>\n",
       "      <td>1</td>\n",
       "      <td>cuda</td>\n",
       "      <td>normal</td>\n",
       "    </tr>\n",
       "    <tr>\n",
       "      <th>35</th>\n",
       "      <td>2</td>\n",
       "      <td>16</td>\n",
       "      <td>0.234162</td>\n",
       "      <td>0.912050</td>\n",
       "      <td>5.941553</td>\n",
       "      <td>96.523380</td>\n",
       "      <td>0.01</td>\n",
       "      <td>1000</td>\n",
       "      <td>1</td>\n",
       "      <td>cuda</td>\n",
       "      <td>normal</td>\n",
       "    </tr>\n",
       "    <tr>\n",
       "      <th>36</th>\n",
       "      <td>2</td>\n",
       "      <td>17</td>\n",
       "      <td>0.235082</td>\n",
       "      <td>0.910967</td>\n",
       "      <td>6.021453</td>\n",
       "      <td>102.599032</td>\n",
       "      <td>0.01</td>\n",
       "      <td>1000</td>\n",
       "      <td>1</td>\n",
       "      <td>cuda</td>\n",
       "      <td>normal</td>\n",
       "    </tr>\n",
       "    <tr>\n",
       "      <th>37</th>\n",
       "      <td>2</td>\n",
       "      <td>18</td>\n",
       "      <td>0.238249</td>\n",
       "      <td>0.909367</td>\n",
       "      <td>6.078128</td>\n",
       "      <td>108.740600</td>\n",
       "      <td>0.01</td>\n",
       "      <td>1000</td>\n",
       "      <td>1</td>\n",
       "      <td>cuda</td>\n",
       "      <td>normal</td>\n",
       "    </tr>\n",
       "    <tr>\n",
       "      <th>38</th>\n",
       "      <td>2</td>\n",
       "      <td>19</td>\n",
       "      <td>0.229693</td>\n",
       "      <td>0.913183</td>\n",
       "      <td>5.932316</td>\n",
       "      <td>114.732335</td>\n",
       "      <td>0.01</td>\n",
       "      <td>1000</td>\n",
       "      <td>1</td>\n",
       "      <td>cuda</td>\n",
       "      <td>normal</td>\n",
       "    </tr>\n",
       "    <tr>\n",
       "      <th>39</th>\n",
       "      <td>2</td>\n",
       "      <td>20</td>\n",
       "      <td>0.220608</td>\n",
       "      <td>0.916133</td>\n",
       "      <td>6.216390</td>\n",
       "      <td>121.004527</td>\n",
       "      <td>0.01</td>\n",
       "      <td>1000</td>\n",
       "      <td>1</td>\n",
       "      <td>cuda</td>\n",
       "      <td>normal</td>\n",
       "    </tr>\n",
       "  </tbody>\n",
       "</table>\n",
       "</div>"
      ],
      "text/plain": [
       "    run  epoch      loss  accuracy  epoch duration  run duration    lr  \\\n",
       "0     1      1  1.012159  0.611050        3.610131      4.217925  0.01   \n",
       "1     1      2  0.549667  0.791583        3.815608      8.085014  0.01   \n",
       "2     1      3  0.448199  0.835700        3.796827     11.933259  0.01   \n",
       "3     1      4  0.397315  0.852417        3.597420     15.581885  0.01   \n",
       "4     1      5  0.360743  0.864300        3.581840     19.217166  0.01   \n",
       "5     1      6  0.334781  0.875033        3.766021     23.031758  0.01   \n",
       "6     1      7  0.317988  0.881183        3.802334     26.885738  0.01   \n",
       "7     1      8  0.303748  0.886667        3.719511     30.656826  0.01   \n",
       "8     1      9  0.292321  0.890867        3.541994     34.252670  0.01   \n",
       "9     1     10  0.279175  0.896267        3.515964     37.821379  0.01   \n",
       "10    1     11  0.271658  0.899750        3.617773     41.491612  0.01   \n",
       "11    1     12  0.266778  0.900283        3.632582     45.180828  0.01   \n",
       "12    1     13  0.261457  0.901883        3.744890     48.975786  0.01   \n",
       "13    1     14  0.252168  0.906317        3.689856     52.712023  0.01   \n",
       "14    1     15  0.249484  0.906500        3.836091     56.606449  0.01   \n",
       "15    1     16  0.243475  0.910250        3.669738     60.327568  0.01   \n",
       "16    1     17  0.237322  0.912200        3.649055     64.029450  0.01   \n",
       "17    1     18  0.236283  0.911567        3.651999     67.734567  0.01   \n",
       "18    1     19  0.231809  0.913867        3.678926     71.468807  0.01   \n",
       "19    1     20  0.227543  0.915600        3.646927     75.164638  0.01   \n",
       "20    2      1  0.885165  0.664833        6.101068      6.686627  0.01   \n",
       "21    2      2  0.455974  0.826517        6.189874     12.923975  0.01   \n",
       "22    2      3  0.376785  0.859983        6.129752     19.117173  0.01   \n",
       "23    2      4  0.342967  0.873533        5.956329     25.124707  0.01   \n",
       "24    2      5  0.325491  0.880067        5.881075     31.073844  0.01   \n",
       "25    2      6  0.306190  0.886933        5.876469     37.006929  0.01   \n",
       "26    2      7  0.290074  0.892417        5.892290     42.955295  0.01   \n",
       "27    2      8  0.280847  0.896400        5.909009     48.921670  0.01   \n",
       "28    2      9  0.271337  0.900117        5.861984     54.839768  0.01   \n",
       "29    2     10  0.260382  0.903100        5.869707     60.771396  0.01   \n",
       "30    2     11  0.249863  0.906967        5.883198     66.719548  0.01   \n",
       "31    2     12  0.242210  0.909300        5.890750     72.672142  0.01   \n",
       "32    2     13  0.239388  0.910817        5.902164     78.634251  0.01   \n",
       "33    2     14  0.238918  0.910467        5.864848     84.560913  0.01   \n",
       "34    2     15  0.238303  0.911050        5.903754     90.526949  0.01   \n",
       "35    2     16  0.234162  0.912050        5.941553     96.523380  0.01   \n",
       "36    2     17  0.235082  0.910967        6.021453    102.599032  0.01   \n",
       "37    2     18  0.238249  0.909367        6.078128    108.740600  0.01   \n",
       "38    2     19  0.229693  0.913183        5.932316    114.732335  0.01   \n",
       "39    2     20  0.220608  0.916133        6.216390    121.004527  0.01   \n",
       "\n",
       "    batch_size  num_workers device    trainset  \n",
       "0         1000            1   cuda  not_normal  \n",
       "1         1000            1   cuda  not_normal  \n",
       "2         1000            1   cuda  not_normal  \n",
       "3         1000            1   cuda  not_normal  \n",
       "4         1000            1   cuda  not_normal  \n",
       "5         1000            1   cuda  not_normal  \n",
       "6         1000            1   cuda  not_normal  \n",
       "7         1000            1   cuda  not_normal  \n",
       "8         1000            1   cuda  not_normal  \n",
       "9         1000            1   cuda  not_normal  \n",
       "10        1000            1   cuda  not_normal  \n",
       "11        1000            1   cuda  not_normal  \n",
       "12        1000            1   cuda  not_normal  \n",
       "13        1000            1   cuda  not_normal  \n",
       "14        1000            1   cuda  not_normal  \n",
       "15        1000            1   cuda  not_normal  \n",
       "16        1000            1   cuda  not_normal  \n",
       "17        1000            1   cuda  not_normal  \n",
       "18        1000            1   cuda  not_normal  \n",
       "19        1000            1   cuda  not_normal  \n",
       "20        1000            1   cuda      normal  \n",
       "21        1000            1   cuda      normal  \n",
       "22        1000            1   cuda      normal  \n",
       "23        1000            1   cuda      normal  \n",
       "24        1000            1   cuda      normal  \n",
       "25        1000            1   cuda      normal  \n",
       "26        1000            1   cuda      normal  \n",
       "27        1000            1   cuda      normal  \n",
       "28        1000            1   cuda      normal  \n",
       "29        1000            1   cuda      normal  \n",
       "30        1000            1   cuda      normal  \n",
       "31        1000            1   cuda      normal  \n",
       "32        1000            1   cuda      normal  \n",
       "33        1000            1   cuda      normal  \n",
       "34        1000            1   cuda      normal  \n",
       "35        1000            1   cuda      normal  \n",
       "36        1000            1   cuda      normal  \n",
       "37        1000            1   cuda      normal  \n",
       "38        1000            1   cuda      normal  \n",
       "39        1000            1   cuda      normal  "
      ]
     },
     "metadata": {},
     "output_type": "display_data"
    }
   ],
   "source": [
    "m = RunManager()\n",
    "\n",
    "for run in RunBuilder.get_runs(params):\n",
    "    \n",
    "    device = torch.device(run.device)\n",
    "    network = Network().to(device)\n",
    "    loader = DataLoader(trainsets[run.trainset], \n",
    "                        batch_size=run.batch_size,\n",
    "                        num_workers=run.num_workers)\n",
    "    optimizer=optim.Adam(network.parameters(), lr=run.lr)\n",
    "    \n",
    "    m.begin_run(run, network, loader)\n",
    "    \n",
    "    for epoch in range(20):\n",
    "        \n",
    "        m.begin_epoch()\n",
    "        \n",
    "        for batch in loader:\n",
    "            \n",
    "            images = batch[0].to(device)\n",
    "            labels = batch[1].to(device)\n",
    "            preds = network(images)\n",
    "            loss = F.cross_entropy(preds, labels) # Calculate Loss\n",
    "            optimizer.zero_grad()\n",
    "            loss.backward()\n",
    "            optimizer.step()\n",
    "            \n",
    "            m.track_loss(loss, batch)\n",
    "            m.track_num_correct(preds, labels)\n",
    "        m.end_epoch()\n",
    "    m.end_run()\n",
    "m.save(\"results\")"
   ]
  },
  {
   "cell_type": "code",
   "execution_count": 69,
   "id": "a03836f4",
   "metadata": {},
   "outputs": [
    {
     "data": {
      "text/html": [
       "<div>\n",
       "<style scoped>\n",
       "    .dataframe tbody tr th:only-of-type {\n",
       "        vertical-align: middle;\n",
       "    }\n",
       "\n",
       "    .dataframe tbody tr th {\n",
       "        vertical-align: top;\n",
       "    }\n",
       "\n",
       "    .dataframe thead th {\n",
       "        text-align: right;\n",
       "    }\n",
       "</style>\n",
       "<table border=\"1\" class=\"dataframe\">\n",
       "  <thead>\n",
       "    <tr style=\"text-align: right;\">\n",
       "      <th></th>\n",
       "      <th>run</th>\n",
       "      <th>epoch</th>\n",
       "      <th>loss</th>\n",
       "      <th>accuracy</th>\n",
       "      <th>epoch duration</th>\n",
       "      <th>run duration</th>\n",
       "      <th>lr</th>\n",
       "      <th>batch_size</th>\n",
       "      <th>num_workers</th>\n",
       "      <th>device</th>\n",
       "      <th>trainset</th>\n",
       "    </tr>\n",
       "  </thead>\n",
       "  <tbody>\n",
       "    <tr>\n",
       "      <th>39</th>\n",
       "      <td>2</td>\n",
       "      <td>20</td>\n",
       "      <td>0.220608</td>\n",
       "      <td>0.916133</td>\n",
       "      <td>6.216390</td>\n",
       "      <td>121.004527</td>\n",
       "      <td>0.01</td>\n",
       "      <td>1000</td>\n",
       "      <td>1</td>\n",
       "      <td>cuda</td>\n",
       "      <td>normal</td>\n",
       "    </tr>\n",
       "    <tr>\n",
       "      <th>19</th>\n",
       "      <td>1</td>\n",
       "      <td>20</td>\n",
       "      <td>0.227543</td>\n",
       "      <td>0.915600</td>\n",
       "      <td>3.646927</td>\n",
       "      <td>75.164638</td>\n",
       "      <td>0.01</td>\n",
       "      <td>1000</td>\n",
       "      <td>1</td>\n",
       "      <td>cuda</td>\n",
       "      <td>not_normal</td>\n",
       "    </tr>\n",
       "    <tr>\n",
       "      <th>18</th>\n",
       "      <td>1</td>\n",
       "      <td>19</td>\n",
       "      <td>0.231809</td>\n",
       "      <td>0.913867</td>\n",
       "      <td>3.678926</td>\n",
       "      <td>71.468807</td>\n",
       "      <td>0.01</td>\n",
       "      <td>1000</td>\n",
       "      <td>1</td>\n",
       "      <td>cuda</td>\n",
       "      <td>not_normal</td>\n",
       "    </tr>\n",
       "    <tr>\n",
       "      <th>38</th>\n",
       "      <td>2</td>\n",
       "      <td>19</td>\n",
       "      <td>0.229693</td>\n",
       "      <td>0.913183</td>\n",
       "      <td>5.932316</td>\n",
       "      <td>114.732335</td>\n",
       "      <td>0.01</td>\n",
       "      <td>1000</td>\n",
       "      <td>1</td>\n",
       "      <td>cuda</td>\n",
       "      <td>normal</td>\n",
       "    </tr>\n",
       "    <tr>\n",
       "      <th>16</th>\n",
       "      <td>1</td>\n",
       "      <td>17</td>\n",
       "      <td>0.237322</td>\n",
       "      <td>0.912200</td>\n",
       "      <td>3.649055</td>\n",
       "      <td>64.029450</td>\n",
       "      <td>0.01</td>\n",
       "      <td>1000</td>\n",
       "      <td>1</td>\n",
       "      <td>cuda</td>\n",
       "      <td>not_normal</td>\n",
       "    </tr>\n",
       "    <tr>\n",
       "      <th>35</th>\n",
       "      <td>2</td>\n",
       "      <td>16</td>\n",
       "      <td>0.234162</td>\n",
       "      <td>0.912050</td>\n",
       "      <td>5.941553</td>\n",
       "      <td>96.523380</td>\n",
       "      <td>0.01</td>\n",
       "      <td>1000</td>\n",
       "      <td>1</td>\n",
       "      <td>cuda</td>\n",
       "      <td>normal</td>\n",
       "    </tr>\n",
       "    <tr>\n",
       "      <th>17</th>\n",
       "      <td>1</td>\n",
       "      <td>18</td>\n",
       "      <td>0.236283</td>\n",
       "      <td>0.911567</td>\n",
       "      <td>3.651999</td>\n",
       "      <td>67.734567</td>\n",
       "      <td>0.01</td>\n",
       "      <td>1000</td>\n",
       "      <td>1</td>\n",
       "      <td>cuda</td>\n",
       "      <td>not_normal</td>\n",
       "    </tr>\n",
       "    <tr>\n",
       "      <th>34</th>\n",
       "      <td>2</td>\n",
       "      <td>15</td>\n",
       "      <td>0.238303</td>\n",
       "      <td>0.911050</td>\n",
       "      <td>5.903754</td>\n",
       "      <td>90.526949</td>\n",
       "      <td>0.01</td>\n",
       "      <td>1000</td>\n",
       "      <td>1</td>\n",
       "      <td>cuda</td>\n",
       "      <td>normal</td>\n",
       "    </tr>\n",
       "    <tr>\n",
       "      <th>36</th>\n",
       "      <td>2</td>\n",
       "      <td>17</td>\n",
       "      <td>0.235082</td>\n",
       "      <td>0.910967</td>\n",
       "      <td>6.021453</td>\n",
       "      <td>102.599032</td>\n",
       "      <td>0.01</td>\n",
       "      <td>1000</td>\n",
       "      <td>1</td>\n",
       "      <td>cuda</td>\n",
       "      <td>normal</td>\n",
       "    </tr>\n",
       "    <tr>\n",
       "      <th>32</th>\n",
       "      <td>2</td>\n",
       "      <td>13</td>\n",
       "      <td>0.239388</td>\n",
       "      <td>0.910817</td>\n",
       "      <td>5.902164</td>\n",
       "      <td>78.634251</td>\n",
       "      <td>0.01</td>\n",
       "      <td>1000</td>\n",
       "      <td>1</td>\n",
       "      <td>cuda</td>\n",
       "      <td>normal</td>\n",
       "    </tr>\n",
       "    <tr>\n",
       "      <th>33</th>\n",
       "      <td>2</td>\n",
       "      <td>14</td>\n",
       "      <td>0.238918</td>\n",
       "      <td>0.910467</td>\n",
       "      <td>5.864848</td>\n",
       "      <td>84.560913</td>\n",
       "      <td>0.01</td>\n",
       "      <td>1000</td>\n",
       "      <td>1</td>\n",
       "      <td>cuda</td>\n",
       "      <td>normal</td>\n",
       "    </tr>\n",
       "    <tr>\n",
       "      <th>15</th>\n",
       "      <td>1</td>\n",
       "      <td>16</td>\n",
       "      <td>0.243475</td>\n",
       "      <td>0.910250</td>\n",
       "      <td>3.669738</td>\n",
       "      <td>60.327568</td>\n",
       "      <td>0.01</td>\n",
       "      <td>1000</td>\n",
       "      <td>1</td>\n",
       "      <td>cuda</td>\n",
       "      <td>not_normal</td>\n",
       "    </tr>\n",
       "    <tr>\n",
       "      <th>37</th>\n",
       "      <td>2</td>\n",
       "      <td>18</td>\n",
       "      <td>0.238249</td>\n",
       "      <td>0.909367</td>\n",
       "      <td>6.078128</td>\n",
       "      <td>108.740600</td>\n",
       "      <td>0.01</td>\n",
       "      <td>1000</td>\n",
       "      <td>1</td>\n",
       "      <td>cuda</td>\n",
       "      <td>normal</td>\n",
       "    </tr>\n",
       "    <tr>\n",
       "      <th>31</th>\n",
       "      <td>2</td>\n",
       "      <td>12</td>\n",
       "      <td>0.242210</td>\n",
       "      <td>0.909300</td>\n",
       "      <td>5.890750</td>\n",
       "      <td>72.672142</td>\n",
       "      <td>0.01</td>\n",
       "      <td>1000</td>\n",
       "      <td>1</td>\n",
       "      <td>cuda</td>\n",
       "      <td>normal</td>\n",
       "    </tr>\n",
       "    <tr>\n",
       "      <th>30</th>\n",
       "      <td>2</td>\n",
       "      <td>11</td>\n",
       "      <td>0.249863</td>\n",
       "      <td>0.906967</td>\n",
       "      <td>5.883198</td>\n",
       "      <td>66.719548</td>\n",
       "      <td>0.01</td>\n",
       "      <td>1000</td>\n",
       "      <td>1</td>\n",
       "      <td>cuda</td>\n",
       "      <td>normal</td>\n",
       "    </tr>\n",
       "    <tr>\n",
       "      <th>14</th>\n",
       "      <td>1</td>\n",
       "      <td>15</td>\n",
       "      <td>0.249484</td>\n",
       "      <td>0.906500</td>\n",
       "      <td>3.836091</td>\n",
       "      <td>56.606449</td>\n",
       "      <td>0.01</td>\n",
       "      <td>1000</td>\n",
       "      <td>1</td>\n",
       "      <td>cuda</td>\n",
       "      <td>not_normal</td>\n",
       "    </tr>\n",
       "    <tr>\n",
       "      <th>13</th>\n",
       "      <td>1</td>\n",
       "      <td>14</td>\n",
       "      <td>0.252168</td>\n",
       "      <td>0.906317</td>\n",
       "      <td>3.689856</td>\n",
       "      <td>52.712023</td>\n",
       "      <td>0.01</td>\n",
       "      <td>1000</td>\n",
       "      <td>1</td>\n",
       "      <td>cuda</td>\n",
       "      <td>not_normal</td>\n",
       "    </tr>\n",
       "    <tr>\n",
       "      <th>29</th>\n",
       "      <td>2</td>\n",
       "      <td>10</td>\n",
       "      <td>0.260382</td>\n",
       "      <td>0.903100</td>\n",
       "      <td>5.869707</td>\n",
       "      <td>60.771396</td>\n",
       "      <td>0.01</td>\n",
       "      <td>1000</td>\n",
       "      <td>1</td>\n",
       "      <td>cuda</td>\n",
       "      <td>normal</td>\n",
       "    </tr>\n",
       "    <tr>\n",
       "      <th>12</th>\n",
       "      <td>1</td>\n",
       "      <td>13</td>\n",
       "      <td>0.261457</td>\n",
       "      <td>0.901883</td>\n",
       "      <td>3.744890</td>\n",
       "      <td>48.975786</td>\n",
       "      <td>0.01</td>\n",
       "      <td>1000</td>\n",
       "      <td>1</td>\n",
       "      <td>cuda</td>\n",
       "      <td>not_normal</td>\n",
       "    </tr>\n",
       "    <tr>\n",
       "      <th>11</th>\n",
       "      <td>1</td>\n",
       "      <td>12</td>\n",
       "      <td>0.266778</td>\n",
       "      <td>0.900283</td>\n",
       "      <td>3.632582</td>\n",
       "      <td>45.180828</td>\n",
       "      <td>0.01</td>\n",
       "      <td>1000</td>\n",
       "      <td>1</td>\n",
       "      <td>cuda</td>\n",
       "      <td>not_normal</td>\n",
       "    </tr>\n",
       "    <tr>\n",
       "      <th>28</th>\n",
       "      <td>2</td>\n",
       "      <td>9</td>\n",
       "      <td>0.271337</td>\n",
       "      <td>0.900117</td>\n",
       "      <td>5.861984</td>\n",
       "      <td>54.839768</td>\n",
       "      <td>0.01</td>\n",
       "      <td>1000</td>\n",
       "      <td>1</td>\n",
       "      <td>cuda</td>\n",
       "      <td>normal</td>\n",
       "    </tr>\n",
       "    <tr>\n",
       "      <th>10</th>\n",
       "      <td>1</td>\n",
       "      <td>11</td>\n",
       "      <td>0.271658</td>\n",
       "      <td>0.899750</td>\n",
       "      <td>3.617773</td>\n",
       "      <td>41.491612</td>\n",
       "      <td>0.01</td>\n",
       "      <td>1000</td>\n",
       "      <td>1</td>\n",
       "      <td>cuda</td>\n",
       "      <td>not_normal</td>\n",
       "    </tr>\n",
       "    <tr>\n",
       "      <th>27</th>\n",
       "      <td>2</td>\n",
       "      <td>8</td>\n",
       "      <td>0.280847</td>\n",
       "      <td>0.896400</td>\n",
       "      <td>5.909009</td>\n",
       "      <td>48.921670</td>\n",
       "      <td>0.01</td>\n",
       "      <td>1000</td>\n",
       "      <td>1</td>\n",
       "      <td>cuda</td>\n",
       "      <td>normal</td>\n",
       "    </tr>\n",
       "    <tr>\n",
       "      <th>9</th>\n",
       "      <td>1</td>\n",
       "      <td>10</td>\n",
       "      <td>0.279175</td>\n",
       "      <td>0.896267</td>\n",
       "      <td>3.515964</td>\n",
       "      <td>37.821379</td>\n",
       "      <td>0.01</td>\n",
       "      <td>1000</td>\n",
       "      <td>1</td>\n",
       "      <td>cuda</td>\n",
       "      <td>not_normal</td>\n",
       "    </tr>\n",
       "    <tr>\n",
       "      <th>26</th>\n",
       "      <td>2</td>\n",
       "      <td>7</td>\n",
       "      <td>0.290074</td>\n",
       "      <td>0.892417</td>\n",
       "      <td>5.892290</td>\n",
       "      <td>42.955295</td>\n",
       "      <td>0.01</td>\n",
       "      <td>1000</td>\n",
       "      <td>1</td>\n",
       "      <td>cuda</td>\n",
       "      <td>normal</td>\n",
       "    </tr>\n",
       "    <tr>\n",
       "      <th>8</th>\n",
       "      <td>1</td>\n",
       "      <td>9</td>\n",
       "      <td>0.292321</td>\n",
       "      <td>0.890867</td>\n",
       "      <td>3.541994</td>\n",
       "      <td>34.252670</td>\n",
       "      <td>0.01</td>\n",
       "      <td>1000</td>\n",
       "      <td>1</td>\n",
       "      <td>cuda</td>\n",
       "      <td>not_normal</td>\n",
       "    </tr>\n",
       "    <tr>\n",
       "      <th>25</th>\n",
       "      <td>2</td>\n",
       "      <td>6</td>\n",
       "      <td>0.306190</td>\n",
       "      <td>0.886933</td>\n",
       "      <td>5.876469</td>\n",
       "      <td>37.006929</td>\n",
       "      <td>0.01</td>\n",
       "      <td>1000</td>\n",
       "      <td>1</td>\n",
       "      <td>cuda</td>\n",
       "      <td>normal</td>\n",
       "    </tr>\n",
       "    <tr>\n",
       "      <th>7</th>\n",
       "      <td>1</td>\n",
       "      <td>8</td>\n",
       "      <td>0.303748</td>\n",
       "      <td>0.886667</td>\n",
       "      <td>3.719511</td>\n",
       "      <td>30.656826</td>\n",
       "      <td>0.01</td>\n",
       "      <td>1000</td>\n",
       "      <td>1</td>\n",
       "      <td>cuda</td>\n",
       "      <td>not_normal</td>\n",
       "    </tr>\n",
       "    <tr>\n",
       "      <th>6</th>\n",
       "      <td>1</td>\n",
       "      <td>7</td>\n",
       "      <td>0.317988</td>\n",
       "      <td>0.881183</td>\n",
       "      <td>3.802334</td>\n",
       "      <td>26.885738</td>\n",
       "      <td>0.01</td>\n",
       "      <td>1000</td>\n",
       "      <td>1</td>\n",
       "      <td>cuda</td>\n",
       "      <td>not_normal</td>\n",
       "    </tr>\n",
       "    <tr>\n",
       "      <th>24</th>\n",
       "      <td>2</td>\n",
       "      <td>5</td>\n",
       "      <td>0.325491</td>\n",
       "      <td>0.880067</td>\n",
       "      <td>5.881075</td>\n",
       "      <td>31.073844</td>\n",
       "      <td>0.01</td>\n",
       "      <td>1000</td>\n",
       "      <td>1</td>\n",
       "      <td>cuda</td>\n",
       "      <td>normal</td>\n",
       "    </tr>\n",
       "    <tr>\n",
       "      <th>5</th>\n",
       "      <td>1</td>\n",
       "      <td>6</td>\n",
       "      <td>0.334781</td>\n",
       "      <td>0.875033</td>\n",
       "      <td>3.766021</td>\n",
       "      <td>23.031758</td>\n",
       "      <td>0.01</td>\n",
       "      <td>1000</td>\n",
       "      <td>1</td>\n",
       "      <td>cuda</td>\n",
       "      <td>not_normal</td>\n",
       "    </tr>\n",
       "    <tr>\n",
       "      <th>23</th>\n",
       "      <td>2</td>\n",
       "      <td>4</td>\n",
       "      <td>0.342967</td>\n",
       "      <td>0.873533</td>\n",
       "      <td>5.956329</td>\n",
       "      <td>25.124707</td>\n",
       "      <td>0.01</td>\n",
       "      <td>1000</td>\n",
       "      <td>1</td>\n",
       "      <td>cuda</td>\n",
       "      <td>normal</td>\n",
       "    </tr>\n",
       "    <tr>\n",
       "      <th>4</th>\n",
       "      <td>1</td>\n",
       "      <td>5</td>\n",
       "      <td>0.360743</td>\n",
       "      <td>0.864300</td>\n",
       "      <td>3.581840</td>\n",
       "      <td>19.217166</td>\n",
       "      <td>0.01</td>\n",
       "      <td>1000</td>\n",
       "      <td>1</td>\n",
       "      <td>cuda</td>\n",
       "      <td>not_normal</td>\n",
       "    </tr>\n",
       "    <tr>\n",
       "      <th>22</th>\n",
       "      <td>2</td>\n",
       "      <td>3</td>\n",
       "      <td>0.376785</td>\n",
       "      <td>0.859983</td>\n",
       "      <td>6.129752</td>\n",
       "      <td>19.117173</td>\n",
       "      <td>0.01</td>\n",
       "      <td>1000</td>\n",
       "      <td>1</td>\n",
       "      <td>cuda</td>\n",
       "      <td>normal</td>\n",
       "    </tr>\n",
       "    <tr>\n",
       "      <th>3</th>\n",
       "      <td>1</td>\n",
       "      <td>4</td>\n",
       "      <td>0.397315</td>\n",
       "      <td>0.852417</td>\n",
       "      <td>3.597420</td>\n",
       "      <td>15.581885</td>\n",
       "      <td>0.01</td>\n",
       "      <td>1000</td>\n",
       "      <td>1</td>\n",
       "      <td>cuda</td>\n",
       "      <td>not_normal</td>\n",
       "    </tr>\n",
       "    <tr>\n",
       "      <th>2</th>\n",
       "      <td>1</td>\n",
       "      <td>3</td>\n",
       "      <td>0.448199</td>\n",
       "      <td>0.835700</td>\n",
       "      <td>3.796827</td>\n",
       "      <td>11.933259</td>\n",
       "      <td>0.01</td>\n",
       "      <td>1000</td>\n",
       "      <td>1</td>\n",
       "      <td>cuda</td>\n",
       "      <td>not_normal</td>\n",
       "    </tr>\n",
       "    <tr>\n",
       "      <th>21</th>\n",
       "      <td>2</td>\n",
       "      <td>2</td>\n",
       "      <td>0.455974</td>\n",
       "      <td>0.826517</td>\n",
       "      <td>6.189874</td>\n",
       "      <td>12.923975</td>\n",
       "      <td>0.01</td>\n",
       "      <td>1000</td>\n",
       "      <td>1</td>\n",
       "      <td>cuda</td>\n",
       "      <td>normal</td>\n",
       "    </tr>\n",
       "    <tr>\n",
       "      <th>1</th>\n",
       "      <td>1</td>\n",
       "      <td>2</td>\n",
       "      <td>0.549667</td>\n",
       "      <td>0.791583</td>\n",
       "      <td>3.815608</td>\n",
       "      <td>8.085014</td>\n",
       "      <td>0.01</td>\n",
       "      <td>1000</td>\n",
       "      <td>1</td>\n",
       "      <td>cuda</td>\n",
       "      <td>not_normal</td>\n",
       "    </tr>\n",
       "    <tr>\n",
       "      <th>20</th>\n",
       "      <td>2</td>\n",
       "      <td>1</td>\n",
       "      <td>0.885165</td>\n",
       "      <td>0.664833</td>\n",
       "      <td>6.101068</td>\n",
       "      <td>6.686627</td>\n",
       "      <td>0.01</td>\n",
       "      <td>1000</td>\n",
       "      <td>1</td>\n",
       "      <td>cuda</td>\n",
       "      <td>normal</td>\n",
       "    </tr>\n",
       "    <tr>\n",
       "      <th>0</th>\n",
       "      <td>1</td>\n",
       "      <td>1</td>\n",
       "      <td>1.012159</td>\n",
       "      <td>0.611050</td>\n",
       "      <td>3.610131</td>\n",
       "      <td>4.217925</td>\n",
       "      <td>0.01</td>\n",
       "      <td>1000</td>\n",
       "      <td>1</td>\n",
       "      <td>cuda</td>\n",
       "      <td>not_normal</td>\n",
       "    </tr>\n",
       "  </tbody>\n",
       "</table>\n",
       "</div>"
      ],
      "text/plain": [
       "    run  epoch      loss  accuracy  epoch duration  run duration    lr  \\\n",
       "39    2     20  0.220608  0.916133        6.216390    121.004527  0.01   \n",
       "19    1     20  0.227543  0.915600        3.646927     75.164638  0.01   \n",
       "18    1     19  0.231809  0.913867        3.678926     71.468807  0.01   \n",
       "38    2     19  0.229693  0.913183        5.932316    114.732335  0.01   \n",
       "16    1     17  0.237322  0.912200        3.649055     64.029450  0.01   \n",
       "35    2     16  0.234162  0.912050        5.941553     96.523380  0.01   \n",
       "17    1     18  0.236283  0.911567        3.651999     67.734567  0.01   \n",
       "34    2     15  0.238303  0.911050        5.903754     90.526949  0.01   \n",
       "36    2     17  0.235082  0.910967        6.021453    102.599032  0.01   \n",
       "32    2     13  0.239388  0.910817        5.902164     78.634251  0.01   \n",
       "33    2     14  0.238918  0.910467        5.864848     84.560913  0.01   \n",
       "15    1     16  0.243475  0.910250        3.669738     60.327568  0.01   \n",
       "37    2     18  0.238249  0.909367        6.078128    108.740600  0.01   \n",
       "31    2     12  0.242210  0.909300        5.890750     72.672142  0.01   \n",
       "30    2     11  0.249863  0.906967        5.883198     66.719548  0.01   \n",
       "14    1     15  0.249484  0.906500        3.836091     56.606449  0.01   \n",
       "13    1     14  0.252168  0.906317        3.689856     52.712023  0.01   \n",
       "29    2     10  0.260382  0.903100        5.869707     60.771396  0.01   \n",
       "12    1     13  0.261457  0.901883        3.744890     48.975786  0.01   \n",
       "11    1     12  0.266778  0.900283        3.632582     45.180828  0.01   \n",
       "28    2      9  0.271337  0.900117        5.861984     54.839768  0.01   \n",
       "10    1     11  0.271658  0.899750        3.617773     41.491612  0.01   \n",
       "27    2      8  0.280847  0.896400        5.909009     48.921670  0.01   \n",
       "9     1     10  0.279175  0.896267        3.515964     37.821379  0.01   \n",
       "26    2      7  0.290074  0.892417        5.892290     42.955295  0.01   \n",
       "8     1      9  0.292321  0.890867        3.541994     34.252670  0.01   \n",
       "25    2      6  0.306190  0.886933        5.876469     37.006929  0.01   \n",
       "7     1      8  0.303748  0.886667        3.719511     30.656826  0.01   \n",
       "6     1      7  0.317988  0.881183        3.802334     26.885738  0.01   \n",
       "24    2      5  0.325491  0.880067        5.881075     31.073844  0.01   \n",
       "5     1      6  0.334781  0.875033        3.766021     23.031758  0.01   \n",
       "23    2      4  0.342967  0.873533        5.956329     25.124707  0.01   \n",
       "4     1      5  0.360743  0.864300        3.581840     19.217166  0.01   \n",
       "22    2      3  0.376785  0.859983        6.129752     19.117173  0.01   \n",
       "3     1      4  0.397315  0.852417        3.597420     15.581885  0.01   \n",
       "2     1      3  0.448199  0.835700        3.796827     11.933259  0.01   \n",
       "21    2      2  0.455974  0.826517        6.189874     12.923975  0.01   \n",
       "1     1      2  0.549667  0.791583        3.815608      8.085014  0.01   \n",
       "20    2      1  0.885165  0.664833        6.101068      6.686627  0.01   \n",
       "0     1      1  1.012159  0.611050        3.610131      4.217925  0.01   \n",
       "\n",
       "    batch_size  num_workers device    trainset  \n",
       "39        1000            1   cuda      normal  \n",
       "19        1000            1   cuda  not_normal  \n",
       "18        1000            1   cuda  not_normal  \n",
       "38        1000            1   cuda      normal  \n",
       "16        1000            1   cuda  not_normal  \n",
       "35        1000            1   cuda      normal  \n",
       "17        1000            1   cuda  not_normal  \n",
       "34        1000            1   cuda      normal  \n",
       "36        1000            1   cuda      normal  \n",
       "32        1000            1   cuda      normal  \n",
       "33        1000            1   cuda      normal  \n",
       "15        1000            1   cuda  not_normal  \n",
       "37        1000            1   cuda      normal  \n",
       "31        1000            1   cuda      normal  \n",
       "30        1000            1   cuda      normal  \n",
       "14        1000            1   cuda  not_normal  \n",
       "13        1000            1   cuda  not_normal  \n",
       "29        1000            1   cuda      normal  \n",
       "12        1000            1   cuda  not_normal  \n",
       "11        1000            1   cuda  not_normal  \n",
       "28        1000            1   cuda      normal  \n",
       "10        1000            1   cuda  not_normal  \n",
       "27        1000            1   cuda      normal  \n",
       "9         1000            1   cuda  not_normal  \n",
       "26        1000            1   cuda      normal  \n",
       "8         1000            1   cuda  not_normal  \n",
       "25        1000            1   cuda      normal  \n",
       "7         1000            1   cuda  not_normal  \n",
       "6         1000            1   cuda  not_normal  \n",
       "24        1000            1   cuda      normal  \n",
       "5         1000            1   cuda  not_normal  \n",
       "23        1000            1   cuda      normal  \n",
       "4         1000            1   cuda  not_normal  \n",
       "22        1000            1   cuda      normal  \n",
       "3         1000            1   cuda  not_normal  \n",
       "2         1000            1   cuda  not_normal  \n",
       "21        1000            1   cuda      normal  \n",
       "1         1000            1   cuda  not_normal  \n",
       "20        1000            1   cuda      normal  \n",
       "0         1000            1   cuda  not_normal  "
      ]
     },
     "execution_count": 69,
     "metadata": {},
     "output_type": "execute_result"
    }
   ],
   "source": [
    "pd.DataFrame.from_dict(m.run_data).sort_values('accuracy', ascending=False)"
   ]
  },
  {
   "cell_type": "code",
   "execution_count": 70,
   "id": "c3a17a00",
   "metadata": {},
   "outputs": [],
   "source": [
    "# torch.manual_seed(50)\n",
    "# sequential1 = nn.Sequential(\n",
    "#       nn.Conv2d(in_channels=1, out_channels=6, kernel_size=5)\n",
    "#     , nn.ReLU()\n",
    "#     , nn.MaxPool2d(kernel_size=2, stride=2)\n",
    "#     , nn.Conv2d(in_channels=6, out_channels=12, kernel_size=5)\n",
    "#     , nn.ReLU()\n",
    "#     , nn.MaxPool2d(kernel_size=2, stride=2)\n",
    "#     , nn.Flatten(start_dim=1)  \n",
    "#     , nn.Linear(in_features=12*4*4, out_features=120)\n",
    "#     , nn.ReLU()\n",
    "#     , nn.Linear(in_features=120, out_features=60)\n",
    "#     , nn.ReLU()\n",
    "#     , nn.Linear(in_features=60, out_features=10)\n",
    "# )\n",
    "\n",
    "\n",
    "# torch.manual_seed(50)\n",
    "# layers = OrderedDict([\n",
    "#      ('conv1', nn.Conv2d(in_channels=1, out_channels=6, kernel_size=5))\n",
    "#     ,('relu1', nn.ReLU())\n",
    "#     ,('maxpool1', nn.MaxPool2d(kernel_size=2, stride=2))\n",
    "    \n",
    "#     ,('conv2', nn.Conv2d(in_channels=6, out_channels=12, kernel_size=5))\n",
    "#     ,('relu2', nn.ReLU())\n",
    "#     ,('maxpool2', nn.MaxPool2d(kernel_size=2, stride=2))\n",
    "    \n",
    "#     ,('flatten', nn.Flatten(start_dim=1)  )\n",
    "#     ,('fc1', nn.Linear(in_features=12*4*4, out_features=120))\n",
    "#     ,('relu3', nn.ReLU())\n",
    "    \n",
    "#     ,('fc2', nn.Linear(in_features=120, out_features=60))\n",
    "#     ,('relu4', nn.ReLU())\n",
    "#     ,('out', nn.Linear(in_features=60, out_features=10))\n",
    "# ])\n",
    "\n",
    "# sequential2 = nn.Sequential(layers)\n",
    "\n",
    "\n",
    "# torch.manual_seed(50)\n",
    "# sequential3 = nn.Sequential()\n",
    "# sequential3.add_module('conv1', nn.Conv2d(in_channels=1, out_channels=6, kernel_size=5))\n",
    "# sequential3.add_module('relu1', nn.ReLU())\n",
    "# sequential3.add_module('maxpool1', nn.MaxPool2d(kernel_size=2, stride=2))\n",
    "    \n",
    "# sequential3.add_module('conv2', nn.Conv2d(in_channels=6, out_channels=12, kernel_size=5))\n",
    "# sequential3.add_module('relu2', nn.ReLU())\n",
    "# sequential3.add_module('maxpool2', nn.MaxPool2d(kernel_size=2, stride=2))\n",
    "    \n",
    "# sequential3.add_module('flatten', nn.Flatten(start_dim=1))\n",
    "# sequential3.add_module('fc1', nn.Linear(in_features=12*4*4, out_features=120))\n",
    "# sequential3.add_module('relu3', nn.ReLU())\n",
    "    \n",
    "# sequential3.add_module('fc2', nn.Linear(in_features=120, out_features=60))\n",
    "# sequential3.add_module('relu4', nn.ReLU())\n",
    "# sequential3.add_module('out', nn.Linear(in_features=60, out_features=10))"
   ]
  },
  {
   "cell_type": "code",
   "execution_count": null,
   "id": "29b92b48",
   "metadata": {},
   "outputs": [],
   "source": []
  },
  {
   "cell_type": "code",
   "execution_count": null,
   "id": "f86ff0f3",
   "metadata": {},
   "outputs": [],
   "source": []
  },
  {
   "cell_type": "markdown",
   "id": "c34d0ce1",
   "metadata": {},
   "source": [
    "# RunManager updated"
   ]
  },
  {
   "cell_type": "code",
   "execution_count": 71,
   "id": "7084c654",
   "metadata": {},
   "outputs": [],
   "source": [
    "import torch\n",
    "import torch.nn as nn\n",
    "import torch.optim as optim\n",
    "import torch.nn. functional as F\n",
    "import torchvision\n",
    "import torchvision.transforms as transforms\n",
    "\n",
    "from torch.utils.data import DataLoader\n",
    "from torch.utils.tensorboard import SummaryWriter\n",
    "from IPython.display import display, clear_output\n",
    "\n",
    "import pandas as pd\n",
    "import time\n",
    "import json\n",
    "\n",
    "from itertools import product\n",
    "from collections import namedtuple\n",
    "from collections import OrderedDict"
   ]
  },
  {
   "cell_type": "code",
   "execution_count": 72,
   "id": "188b9db5",
   "metadata": {},
   "outputs": [],
   "source": [
    "class RunBuilder():\n",
    "    @staticmethod\n",
    "    def get_runs(params):\n",
    "        Run = namedtuple(\"Run\", params.keys())\n",
    "        runs = []\n",
    "        for v in product(*params.values()):\n",
    "            runs.append(Run(*v))\n",
    "        return runs"
   ]
  },
  {
   "cell_type": "code",
   "execution_count": 73,
   "id": "a3dc6260",
   "metadata": {},
   "outputs": [],
   "source": [
    "class RunManager():\n",
    "    def __init__(self):\n",
    "        # Run\n",
    "        self.run_params = None\n",
    "        self.run_count = 0\n",
    "        self.run_data = []\n",
    "        self.run_start_time = None\n",
    "        \n",
    "        # model, dataloader, and tensorboard\n",
    "        self.network = None\n",
    "        self.loader = None\n",
    "        self.tb = None\n",
    "        \n",
    "        # Epoch\n",
    "        self.epoch_count = 0\n",
    "        self.epoch_loss = 0\n",
    "        self.epoch_num_correct = 0\n",
    "        self.epoch_start_time = None\n",
    "        \n",
    "    def begin_run(self, run, network, loader):\n",
    "        self.run_start_time = time.time()\n",
    "        self.run_params = run\n",
    "        self.run_count += 1\n",
    "        \n",
    "        self.network = network\n",
    "        self.loader = loader\n",
    "#         self.tb = SummaryWriter(comment=f\"-{run}\")\n",
    "        self.tb = SummaryWriter()\n",
    "    \n",
    "        # Load the images, and labels\n",
    "        imgs, lbls = next(iter(self.loader))\n",
    "        grid = torchvision.utils.make_grid(imgs)\n",
    "        \n",
    "#         self.tb.add_image(\"images\", grid)\n",
    "#         self.tb.add_graph(\n",
    "#             self.network,\n",
    "#             imgs.to(getattr(run, \"device\", \"cpu\"))\n",
    "#         )\n",
    "        \n",
    "    def begin_epoch(self):\n",
    "        self.epoch_start_time = time.time()\n",
    "        self.epoch_count += 1\n",
    "        self.epoch_loss = 0\n",
    "        self.epoch_num_correct = 0\n",
    "        \n",
    "    def end_epoch(self):\n",
    "        epoch_duration = time.time() - self.epoch_start_time\n",
    "        run_duration = time.time() - self.run_start_time\n",
    "        \n",
    "        # for each epoch, all the losses divided by the len(dataset)\n",
    "        loss = self.epoch_loss / len(self.loader.dataset)\n",
    "        accuracy = self.epoch_num_correct / len(self.loader.dataset)\n",
    "        \n",
    "        self.tb.add_scalar(\"Loss\", loss, self.epoch_count)\n",
    "        self.tb.add_scalar(\"Accuracy\", accuracy, self.epoch_count)\n",
    "        \n",
    "        for name, param in self.network.named_parameters():\n",
    "            self.tb.add_histogram(name, param, self.epoch_count)\n",
    "            self.tb.add_histogram(f\"{name}.grad\", param.grad, self.epoch_count)\n",
    "            \n",
    "        # The output result collection\n",
    "        results = OrderedDict()\n",
    "        results[\"run\"] = self.run_count\n",
    "        results[\"epoch\"] = self.epoch_count\n",
    "        results[\"loss\"] = loss\n",
    "        results[\"accuracy\"] = accuracy\n",
    "        results[\"epoch duration\"] = epoch_duration\n",
    "        results[\"run duration\"] = run_duration\n",
    "        for k, v in self.run_params._asdict().items():\n",
    "            results[k] = v\n",
    "        self.run_data.append(results)\n",
    "        \n",
    "        # Define the output result from dict\n",
    "        df = pd.DataFrame.from_dict(self.run_data, orient=\"columns\")\n",
    "    \n",
    "        # Clear the canvas and display teh output result\n",
    "        clear_output(wait=True)\n",
    "        display(df)\n",
    "        \n",
    "    def end_run(self):\n",
    "        \"\"\"\n",
    "        for the run is ended, tensorboard, and epoch count gets reset\n",
    "        \"\"\"\n",
    "        self.tb.close()\n",
    "        self.epoch_count = 0\n",
    "            \n",
    "    def track_loss(self, loss, batch):\n",
    "        self.epoch_loss += loss.item() * batch[0].shape[0]\n",
    "        \n",
    "    def track_num_correct(self, preds, labels):\n",
    "        self.epoch_num_correct += self._get_num_correct(preds, labels)\n",
    "        \n",
    "    def _get_num_correct(self, preds, labels):\n",
    "        return preds.argmax(dim=1).eq(labels).sum().item()\n",
    "    \n",
    "    def save(self, fileName):\n",
    "        # CSV\n",
    "        pd.DataFrame.from_dict(\n",
    "            self.run_data,\n",
    "            orient=\"columns\"\n",
    "        ).to_csv(f\"{fileName}.csv\")\n",
    "        \n",
    "        # JSON \n",
    "        with open(f\"{fileName}.json\", \"w\", encoding=\"utf-8\") as f:\n",
    "            json.dump(self.run_data, f, ensure_ascii=False, indent=4)"
   ]
  },
  {
   "cell_type": "code",
   "execution_count": null,
   "id": "5e32e284",
   "metadata": {},
   "outputs": [],
   "source": []
  },
  {
   "cell_type": "markdown",
   "id": "93a8437e",
   "metadata": {},
   "source": [
    "# Batch Norm\n"
   ]
  },
  {
   "cell_type": "code",
   "execution_count": 74,
   "id": "ad23a649",
   "metadata": {},
   "outputs": [],
   "source": [
    "# No BatchNorm\n",
    "torch.manual_seed(50)\n",
    "network_nobatch = nn.Sequential(\n",
    "      nn.Conv2d(in_channels=1, out_channels=6, kernel_size=5)\n",
    "    , nn.ReLU()\n",
    "    , nn.MaxPool2d(kernel_size=2, stride=2)\n",
    "    , nn.Conv2d(in_channels=6, out_channels=12, kernel_size=5)\n",
    "    , nn.ReLU()\n",
    "    , nn.MaxPool2d(kernel_size=2, stride=2)\n",
    "    , nn.Flatten(start_dim=1)  \n",
    "    , nn.Linear(in_features=12*4*4, out_features=120)\n",
    "    , nn.ReLU()\n",
    "    , nn.Linear(in_features=120, out_features=60)\n",
    "    , nn.ReLU()\n",
    "    , nn.Linear(in_features=60, out_features=10)\n",
    ")"
   ]
  },
  {
   "cell_type": "code",
   "execution_count": 75,
   "id": "b39e033b",
   "metadata": {},
   "outputs": [],
   "source": [
    "# BatchNorm\n",
    "torch.manual_seed(50)\n",
    "network_batch = nn.Sequential(\n",
    "      nn.Conv2d(in_channels=1, out_channels=6, kernel_size=5)\n",
    "    , nn.ReLU()\n",
    "    , nn.MaxPool2d(kernel_size=2, stride=2)\n",
    "    , nn.BatchNorm2d(6)\n",
    "    , nn.Conv2d(in_channels=6, out_channels=12, kernel_size=5)\n",
    "    , nn.ReLU()\n",
    "    , nn.MaxPool2d(kernel_size=2, stride=2)\n",
    "    , nn.Flatten(start_dim=1)  \n",
    "    , nn.Linear(in_features=12*4*4, out_features=120)\n",
    "    , nn.ReLU()\n",
    "    , nn.BatchNorm1d(120)\n",
    "    , nn.Linear(in_features=120, out_features=60)\n",
    "    , nn.ReLU()\n",
    "    , nn.Linear(in_features=60, out_features=10)\n",
    ")"
   ]
  },
  {
   "cell_type": "code",
   "execution_count": 76,
   "id": "0180b2e9",
   "metadata": {},
   "outputs": [],
   "source": [
    "# trainset\n",
    "train_set = torchvision.datasets.FashionMNIST(\n",
    "    root='./data'\n",
    "    ,train=True\n",
    "    ,download=True\n",
    "    ,transform=transforms.Compose([\n",
    "        transforms.ToTensor()\n",
    "    ])\n",
    ")"
   ]
  },
  {
   "cell_type": "code",
   "execution_count": 77,
   "id": "57fc1a3d",
   "metadata": {},
   "outputs": [
    {
     "data": {
      "text/plain": [
       "(tensor(0.2860), tensor(0.3530))"
      ]
     },
     "execution_count": 77,
     "metadata": {},
     "output_type": "execute_result"
    }
   ],
   "source": [
    "# get mean, std\n",
    "loader = DataLoader(train_set, batch_size=len(train_set), num_workers=1)\n",
    "data = next(iter(loader))\n",
    "mean = data[0].mean()\n",
    "std = data[0].std()\n",
    "mean, std"
   ]
  },
  {
   "cell_type": "code",
   "execution_count": 78,
   "id": "d5f9e962",
   "metadata": {},
   "outputs": [],
   "source": [
    "# generate trainset with normal distribution\n",
    "train_set_normal = torchvision.datasets.FashionMNIST(\n",
    "    root='./data'\n",
    "    ,train=True\n",
    "    ,download=True\n",
    "    ,transform=transforms.Compose([\n",
    "        transforms.ToTensor()\n",
    "        ,transforms.Normalize(mean, std)\n",
    "    ])\n",
    ")"
   ]
  },
  {
   "cell_type": "code",
   "execution_count": 79,
   "id": "2d794205",
   "metadata": {},
   "outputs": [],
   "source": [
    "# different trainsets\n",
    "trainsets = {\n",
    "    'not_normal': train_set\n",
    "    ,'normal': train_set_normal\n",
    "}"
   ]
  },
  {
   "cell_type": "code",
   "execution_count": 80,
   "id": "8e991f84",
   "metadata": {},
   "outputs": [],
   "source": [
    "# different networks\n",
    "networks = {\n",
    "    'no_batch_norm': network_nobatch\n",
    "    ,'batch_norm': network_batch\n",
    "}"
   ]
  },
  {
   "cell_type": "code",
   "execution_count": 81,
   "id": "fc334c39",
   "metadata": {
    "scrolled": false
   },
   "outputs": [
    {
     "data": {
      "text/html": [
       "<div>\n",
       "<style scoped>\n",
       "    .dataframe tbody tr th:only-of-type {\n",
       "        vertical-align: middle;\n",
       "    }\n",
       "\n",
       "    .dataframe tbody tr th {\n",
       "        vertical-align: top;\n",
       "    }\n",
       "\n",
       "    .dataframe thead th {\n",
       "        text-align: right;\n",
       "    }\n",
       "</style>\n",
       "<table border=\"1\" class=\"dataframe\">\n",
       "  <thead>\n",
       "    <tr style=\"text-align: right;\">\n",
       "      <th></th>\n",
       "      <th>run</th>\n",
       "      <th>epoch</th>\n",
       "      <th>loss</th>\n",
       "      <th>accuracy</th>\n",
       "      <th>epoch duration</th>\n",
       "      <th>run duration</th>\n",
       "      <th>lr</th>\n",
       "      <th>batch_size</th>\n",
       "      <th>num_workers</th>\n",
       "      <th>device</th>\n",
       "      <th>trainset</th>\n",
       "      <th>network</th>\n",
       "    </tr>\n",
       "  </thead>\n",
       "  <tbody>\n",
       "    <tr>\n",
       "      <th>0</th>\n",
       "      <td>1</td>\n",
       "      <td>1</td>\n",
       "      <td>0.910890</td>\n",
       "      <td>0.661767</td>\n",
       "      <td>6.495939</td>\n",
       "      <td>6.884146</td>\n",
       "      <td>0.01</td>\n",
       "      <td>1000</td>\n",
       "      <td>1</td>\n",
       "      <td>cuda</td>\n",
       "      <td>normal</td>\n",
       "      <td>no_batch_norm</td>\n",
       "    </tr>\n",
       "    <tr>\n",
       "      <th>1</th>\n",
       "      <td>1</td>\n",
       "      <td>2</td>\n",
       "      <td>0.482729</td>\n",
       "      <td>0.816633</td>\n",
       "      <td>6.212908</td>\n",
       "      <td>13.149975</td>\n",
       "      <td>0.01</td>\n",
       "      <td>1000</td>\n",
       "      <td>1</td>\n",
       "      <td>cuda</td>\n",
       "      <td>normal</td>\n",
       "      <td>no_batch_norm</td>\n",
       "    </tr>\n",
       "    <tr>\n",
       "      <th>2</th>\n",
       "      <td>1</td>\n",
       "      <td>3</td>\n",
       "      <td>0.401896</td>\n",
       "      <td>0.851133</td>\n",
       "      <td>5.971106</td>\n",
       "      <td>19.175631</td>\n",
       "      <td>0.01</td>\n",
       "      <td>1000</td>\n",
       "      <td>1</td>\n",
       "      <td>cuda</td>\n",
       "      <td>normal</td>\n",
       "      <td>no_batch_norm</td>\n",
       "    </tr>\n",
       "    <tr>\n",
       "      <th>3</th>\n",
       "      <td>1</td>\n",
       "      <td>4</td>\n",
       "      <td>0.355195</td>\n",
       "      <td>0.869033</td>\n",
       "      <td>5.980349</td>\n",
       "      <td>25.211472</td>\n",
       "      <td>0.01</td>\n",
       "      <td>1000</td>\n",
       "      <td>1</td>\n",
       "      <td>cuda</td>\n",
       "      <td>normal</td>\n",
       "      <td>no_batch_norm</td>\n",
       "    </tr>\n",
       "    <tr>\n",
       "      <th>4</th>\n",
       "      <td>1</td>\n",
       "      <td>5</td>\n",
       "      <td>0.332257</td>\n",
       "      <td>0.877983</td>\n",
       "      <td>5.906584</td>\n",
       "      <td>31.183192</td>\n",
       "      <td>0.01</td>\n",
       "      <td>1000</td>\n",
       "      <td>1</td>\n",
       "      <td>cuda</td>\n",
       "      <td>normal</td>\n",
       "      <td>no_batch_norm</td>\n",
       "    </tr>\n",
       "    <tr>\n",
       "      <th>5</th>\n",
       "      <td>2</td>\n",
       "      <td>1</td>\n",
       "      <td>0.582896</td>\n",
       "      <td>0.788033</td>\n",
       "      <td>6.070597</td>\n",
       "      <td>6.450924</td>\n",
       "      <td>0.01</td>\n",
       "      <td>1000</td>\n",
       "      <td>1</td>\n",
       "      <td>cuda</td>\n",
       "      <td>normal</td>\n",
       "      <td>batch_norm</td>\n",
       "    </tr>\n",
       "    <tr>\n",
       "      <th>6</th>\n",
       "      <td>2</td>\n",
       "      <td>2</td>\n",
       "      <td>0.351707</td>\n",
       "      <td>0.867883</td>\n",
       "      <td>5.896474</td>\n",
       "      <td>12.419596</td>\n",
       "      <td>0.01</td>\n",
       "      <td>1000</td>\n",
       "      <td>1</td>\n",
       "      <td>cuda</td>\n",
       "      <td>normal</td>\n",
       "      <td>batch_norm</td>\n",
       "    </tr>\n",
       "    <tr>\n",
       "      <th>7</th>\n",
       "      <td>2</td>\n",
       "      <td>3</td>\n",
       "      <td>0.310723</td>\n",
       "      <td>0.882883</td>\n",
       "      <td>5.936544</td>\n",
       "      <td>18.424352</td>\n",
       "      <td>0.01</td>\n",
       "      <td>1000</td>\n",
       "      <td>1</td>\n",
       "      <td>cuda</td>\n",
       "      <td>normal</td>\n",
       "      <td>batch_norm</td>\n",
       "    </tr>\n",
       "    <tr>\n",
       "      <th>8</th>\n",
       "      <td>2</td>\n",
       "      <td>4</td>\n",
       "      <td>0.286737</td>\n",
       "      <td>0.891650</td>\n",
       "      <td>5.807678</td>\n",
       "      <td>24.306875</td>\n",
       "      <td>0.01</td>\n",
       "      <td>1000</td>\n",
       "      <td>1</td>\n",
       "      <td>cuda</td>\n",
       "      <td>normal</td>\n",
       "      <td>batch_norm</td>\n",
       "    </tr>\n",
       "    <tr>\n",
       "      <th>9</th>\n",
       "      <td>2</td>\n",
       "      <td>5</td>\n",
       "      <td>0.267775</td>\n",
       "      <td>0.898567</td>\n",
       "      <td>5.733323</td>\n",
       "      <td>30.109798</td>\n",
       "      <td>0.01</td>\n",
       "      <td>1000</td>\n",
       "      <td>1</td>\n",
       "      <td>cuda</td>\n",
       "      <td>normal</td>\n",
       "      <td>batch_norm</td>\n",
       "    </tr>\n",
       "  </tbody>\n",
       "</table>\n",
       "</div>"
      ],
      "text/plain": [
       "   run  epoch      loss  accuracy  epoch duration  run duration    lr  \\\n",
       "0    1      1  0.910890  0.661767        6.495939      6.884146  0.01   \n",
       "1    1      2  0.482729  0.816633        6.212908     13.149975  0.01   \n",
       "2    1      3  0.401896  0.851133        5.971106     19.175631  0.01   \n",
       "3    1      4  0.355195  0.869033        5.980349     25.211472  0.01   \n",
       "4    1      5  0.332257  0.877983        5.906584     31.183192  0.01   \n",
       "5    2      1  0.582896  0.788033        6.070597      6.450924  0.01   \n",
       "6    2      2  0.351707  0.867883        5.896474     12.419596  0.01   \n",
       "7    2      3  0.310723  0.882883        5.936544     18.424352  0.01   \n",
       "8    2      4  0.286737  0.891650        5.807678     24.306875  0.01   \n",
       "9    2      5  0.267775  0.898567        5.733323     30.109798  0.01   \n",
       "\n",
       "   batch_size  num_workers device trainset        network  \n",
       "0        1000            1   cuda   normal  no_batch_norm  \n",
       "1        1000            1   cuda   normal  no_batch_norm  \n",
       "2        1000            1   cuda   normal  no_batch_norm  \n",
       "3        1000            1   cuda   normal  no_batch_norm  \n",
       "4        1000            1   cuda   normal  no_batch_norm  \n",
       "5        1000            1   cuda   normal     batch_norm  \n",
       "6        1000            1   cuda   normal     batch_norm  \n",
       "7        1000            1   cuda   normal     batch_norm  \n",
       "8        1000            1   cuda   normal     batch_norm  \n",
       "9        1000            1   cuda   normal     batch_norm  "
      ]
     },
     "metadata": {},
     "output_type": "display_data"
    }
   ],
   "source": [
    "params = OrderedDict(\n",
    "    lr = [.01]\n",
    "    , batch_size = [1000]\n",
    "    , num_workers = [1]\n",
    "    , device = ['cuda']\n",
    "    , trainset = ['normal']\n",
    "    , network = list(networks.keys())\n",
    ")\n",
    "m = RunManager()\n",
    "for run in RunBuilder.get_runs(params):\n",
    "\n",
    "    device = torch.device(run.device)\n",
    "    network = networks[run.network].to(device)\n",
    "    loader = DataLoader(trainsets[run.trainset], batch_size=run.batch_size, num_workers=run.num_workers)\n",
    "    optimizer = optim.Adam(network.parameters(), lr=run.lr)\n",
    "    \n",
    "    m.begin_run(run, network, loader)\n",
    "    for epoch in range(5):\n",
    "        m.begin_epoch()\n",
    "        for batch in loader:\n",
    "            \n",
    "            images = batch[0].to(device)\n",
    "            labels = batch[1].to(device)\n",
    "            preds = network(images) # Pass Batch\n",
    "            loss = F.cross_entropy(preds, labels) # Calculate Loss\n",
    "            optimizer.zero_grad() # Zero Gradients\n",
    "            loss.backward() # Calculate Gradients\n",
    "            optimizer.step() # Update Weights\n",
    "            \n",
    "            m.track_loss(loss, batch)\n",
    "            m.track_num_correct(preds, labels)\n",
    "        m.end_epoch()\n",
    "    m.end_run()\n",
    "m.save('results')"
   ]
  },
  {
   "cell_type": "code",
   "execution_count": 82,
   "id": "100db7e7",
   "metadata": {},
   "outputs": [
    {
     "data": {
      "text/html": [
       "<div>\n",
       "<style scoped>\n",
       "    .dataframe tbody tr th:only-of-type {\n",
       "        vertical-align: middle;\n",
       "    }\n",
       "\n",
       "    .dataframe tbody tr th {\n",
       "        vertical-align: top;\n",
       "    }\n",
       "\n",
       "    .dataframe thead th {\n",
       "        text-align: right;\n",
       "    }\n",
       "</style>\n",
       "<table border=\"1\" class=\"dataframe\">\n",
       "  <thead>\n",
       "    <tr style=\"text-align: right;\">\n",
       "      <th></th>\n",
       "      <th>run</th>\n",
       "      <th>epoch</th>\n",
       "      <th>loss</th>\n",
       "      <th>accuracy</th>\n",
       "      <th>epoch duration</th>\n",
       "      <th>run duration</th>\n",
       "      <th>lr</th>\n",
       "      <th>batch_size</th>\n",
       "      <th>num_workers</th>\n",
       "      <th>device</th>\n",
       "      <th>trainset</th>\n",
       "      <th>network</th>\n",
       "    </tr>\n",
       "  </thead>\n",
       "  <tbody>\n",
       "    <tr>\n",
       "      <th>9</th>\n",
       "      <td>2</td>\n",
       "      <td>5</td>\n",
       "      <td>0.267775</td>\n",
       "      <td>0.898567</td>\n",
       "      <td>5.733323</td>\n",
       "      <td>30.109798</td>\n",
       "      <td>0.01</td>\n",
       "      <td>1000</td>\n",
       "      <td>1</td>\n",
       "      <td>cuda</td>\n",
       "      <td>normal</td>\n",
       "      <td>batch_norm</td>\n",
       "    </tr>\n",
       "    <tr>\n",
       "      <th>8</th>\n",
       "      <td>2</td>\n",
       "      <td>4</td>\n",
       "      <td>0.286737</td>\n",
       "      <td>0.891650</td>\n",
       "      <td>5.807678</td>\n",
       "      <td>24.306875</td>\n",
       "      <td>0.01</td>\n",
       "      <td>1000</td>\n",
       "      <td>1</td>\n",
       "      <td>cuda</td>\n",
       "      <td>normal</td>\n",
       "      <td>batch_norm</td>\n",
       "    </tr>\n",
       "    <tr>\n",
       "      <th>7</th>\n",
       "      <td>2</td>\n",
       "      <td>3</td>\n",
       "      <td>0.310723</td>\n",
       "      <td>0.882883</td>\n",
       "      <td>5.936544</td>\n",
       "      <td>18.424352</td>\n",
       "      <td>0.01</td>\n",
       "      <td>1000</td>\n",
       "      <td>1</td>\n",
       "      <td>cuda</td>\n",
       "      <td>normal</td>\n",
       "      <td>batch_norm</td>\n",
       "    </tr>\n",
       "    <tr>\n",
       "      <th>4</th>\n",
       "      <td>1</td>\n",
       "      <td>5</td>\n",
       "      <td>0.332257</td>\n",
       "      <td>0.877983</td>\n",
       "      <td>5.906584</td>\n",
       "      <td>31.183192</td>\n",
       "      <td>0.01</td>\n",
       "      <td>1000</td>\n",
       "      <td>1</td>\n",
       "      <td>cuda</td>\n",
       "      <td>normal</td>\n",
       "      <td>no_batch_norm</td>\n",
       "    </tr>\n",
       "    <tr>\n",
       "      <th>3</th>\n",
       "      <td>1</td>\n",
       "      <td>4</td>\n",
       "      <td>0.355195</td>\n",
       "      <td>0.869033</td>\n",
       "      <td>5.980349</td>\n",
       "      <td>25.211472</td>\n",
       "      <td>0.01</td>\n",
       "      <td>1000</td>\n",
       "      <td>1</td>\n",
       "      <td>cuda</td>\n",
       "      <td>normal</td>\n",
       "      <td>no_batch_norm</td>\n",
       "    </tr>\n",
       "    <tr>\n",
       "      <th>6</th>\n",
       "      <td>2</td>\n",
       "      <td>2</td>\n",
       "      <td>0.351707</td>\n",
       "      <td>0.867883</td>\n",
       "      <td>5.896474</td>\n",
       "      <td>12.419596</td>\n",
       "      <td>0.01</td>\n",
       "      <td>1000</td>\n",
       "      <td>1</td>\n",
       "      <td>cuda</td>\n",
       "      <td>normal</td>\n",
       "      <td>batch_norm</td>\n",
       "    </tr>\n",
       "    <tr>\n",
       "      <th>2</th>\n",
       "      <td>1</td>\n",
       "      <td>3</td>\n",
       "      <td>0.401896</td>\n",
       "      <td>0.851133</td>\n",
       "      <td>5.971106</td>\n",
       "      <td>19.175631</td>\n",
       "      <td>0.01</td>\n",
       "      <td>1000</td>\n",
       "      <td>1</td>\n",
       "      <td>cuda</td>\n",
       "      <td>normal</td>\n",
       "      <td>no_batch_norm</td>\n",
       "    </tr>\n",
       "    <tr>\n",
       "      <th>1</th>\n",
       "      <td>1</td>\n",
       "      <td>2</td>\n",
       "      <td>0.482729</td>\n",
       "      <td>0.816633</td>\n",
       "      <td>6.212908</td>\n",
       "      <td>13.149975</td>\n",
       "      <td>0.01</td>\n",
       "      <td>1000</td>\n",
       "      <td>1</td>\n",
       "      <td>cuda</td>\n",
       "      <td>normal</td>\n",
       "      <td>no_batch_norm</td>\n",
       "    </tr>\n",
       "    <tr>\n",
       "      <th>5</th>\n",
       "      <td>2</td>\n",
       "      <td>1</td>\n",
       "      <td>0.582896</td>\n",
       "      <td>0.788033</td>\n",
       "      <td>6.070597</td>\n",
       "      <td>6.450924</td>\n",
       "      <td>0.01</td>\n",
       "      <td>1000</td>\n",
       "      <td>1</td>\n",
       "      <td>cuda</td>\n",
       "      <td>normal</td>\n",
       "      <td>batch_norm</td>\n",
       "    </tr>\n",
       "    <tr>\n",
       "      <th>0</th>\n",
       "      <td>1</td>\n",
       "      <td>1</td>\n",
       "      <td>0.910890</td>\n",
       "      <td>0.661767</td>\n",
       "      <td>6.495939</td>\n",
       "      <td>6.884146</td>\n",
       "      <td>0.01</td>\n",
       "      <td>1000</td>\n",
       "      <td>1</td>\n",
       "      <td>cuda</td>\n",
       "      <td>normal</td>\n",
       "      <td>no_batch_norm</td>\n",
       "    </tr>\n",
       "  </tbody>\n",
       "</table>\n",
       "</div>"
      ],
      "text/plain": [
       "   run  epoch      loss  accuracy  epoch duration  run duration    lr  \\\n",
       "9    2      5  0.267775  0.898567        5.733323     30.109798  0.01   \n",
       "8    2      4  0.286737  0.891650        5.807678     24.306875  0.01   \n",
       "7    2      3  0.310723  0.882883        5.936544     18.424352  0.01   \n",
       "4    1      5  0.332257  0.877983        5.906584     31.183192  0.01   \n",
       "3    1      4  0.355195  0.869033        5.980349     25.211472  0.01   \n",
       "6    2      2  0.351707  0.867883        5.896474     12.419596  0.01   \n",
       "2    1      3  0.401896  0.851133        5.971106     19.175631  0.01   \n",
       "1    1      2  0.482729  0.816633        6.212908     13.149975  0.01   \n",
       "5    2      1  0.582896  0.788033        6.070597      6.450924  0.01   \n",
       "0    1      1  0.910890  0.661767        6.495939      6.884146  0.01   \n",
       "\n",
       "   batch_size  num_workers device trainset        network  \n",
       "9        1000            1   cuda   normal     batch_norm  \n",
       "8        1000            1   cuda   normal     batch_norm  \n",
       "7        1000            1   cuda   normal     batch_norm  \n",
       "4        1000            1   cuda   normal  no_batch_norm  \n",
       "3        1000            1   cuda   normal  no_batch_norm  \n",
       "6        1000            1   cuda   normal     batch_norm  \n",
       "2        1000            1   cuda   normal  no_batch_norm  \n",
       "1        1000            1   cuda   normal  no_batch_norm  \n",
       "5        1000            1   cuda   normal     batch_norm  \n",
       "0        1000            1   cuda   normal  no_batch_norm  "
      ]
     },
     "execution_count": 82,
     "metadata": {},
     "output_type": "execute_result"
    }
   ],
   "source": [
    "pd.DataFrame.from_dict(m.run_data).sort_values('accuracy', ascending=False)"
   ]
  },
  {
   "cell_type": "code",
   "execution_count": null,
   "id": "d773a2f4",
   "metadata": {},
   "outputs": [],
   "source": []
  },
  {
   "cell_type": "markdown",
   "id": "acaa867d",
   "metadata": {},
   "source": [
    "# Resetting weights"
   ]
  },
  {
   "cell_type": "code",
   "execution_count": 83,
   "id": "37cd81bd",
   "metadata": {},
   "outputs": [],
   "source": [
    "torch.manual_seed(50)\n",
    "layer = nn.Linear(2,1)"
   ]
  },
  {
   "cell_type": "code",
   "execution_count": 84,
   "id": "5774a598",
   "metadata": {},
   "outputs": [
    {
     "data": {
      "text/plain": [
       "Parameter containing:\n",
       "tensor([[ 0.1669, -0.6100]], requires_grad=True)"
      ]
     },
     "execution_count": 84,
     "metadata": {},
     "output_type": "execute_result"
    }
   ],
   "source": [
    "layer.weight"
   ]
  },
  {
   "cell_type": "code",
   "execution_count": 85,
   "id": "e7417b52",
   "metadata": {},
   "outputs": [],
   "source": [
    "t = torch.rand(2)\n",
    "o = layer(t)\n",
    "o.backward()"
   ]
  },
  {
   "cell_type": "code",
   "execution_count": 86,
   "id": "063f46c3",
   "metadata": {},
   "outputs": [],
   "source": [
    "optimizer = optim.Adam(layer.parameters(), lr=.01)\n",
    "optimizer.step()"
   ]
  },
  {
   "cell_type": "code",
   "execution_count": 87,
   "id": "c5f85f04",
   "metadata": {},
   "outputs": [
    {
     "data": {
      "text/plain": [
       "Parameter containing:\n",
       "tensor([[ 0.1569, -0.6200]], requires_grad=True)"
      ]
     },
     "execution_count": 87,
     "metadata": {},
     "output_type": "execute_result"
    }
   ],
   "source": [
    "layer.weight"
   ]
  },
  {
   "cell_type": "code",
   "execution_count": 88,
   "id": "ab3f9a90",
   "metadata": {},
   "outputs": [],
   "source": [
    "torch.manual_seed(50)\n",
    "layer.reset_parameters()   # Reset"
   ]
  },
  {
   "cell_type": "code",
   "execution_count": 89,
   "id": "37f0e436",
   "metadata": {},
   "outputs": [
    {
     "data": {
      "text/plain": [
       "Parameter containing:\n",
       "tensor([[ 0.1669, -0.6100]], requires_grad=True)"
      ]
     },
     "execution_count": 89,
     "metadata": {},
     "output_type": "execute_result"
    }
   ],
   "source": [
    "layer.weight"
   ]
  },
  {
   "cell_type": "markdown",
   "id": "29c5f5b9",
   "metadata": {},
   "source": [
    "### # Individual layer inside a network"
   ]
  },
  {
   "cell_type": "code",
   "execution_count": 90,
   "id": "01bf7e86",
   "metadata": {},
   "outputs": [
    {
     "data": {
      "text/plain": [
       "Linear(in_features=2, out_features=1, bias=True)"
      ]
     },
     "execution_count": 90,
     "metadata": {},
     "output_type": "execute_result"
    }
   ],
   "source": [
    "\n",
    "torch.manual_seed(50)\n",
    "network = nn.Sequential(nn.Linear(2,1))\n",
    "network[0]"
   ]
  },
  {
   "cell_type": "code",
   "execution_count": 91,
   "id": "3aa52cd1",
   "metadata": {},
   "outputs": [
    {
     "data": {
      "text/plain": [
       "Parameter containing:\n",
       "tensor([[ 0.1669, -0.6100]], requires_grad=True)"
      ]
     },
     "execution_count": 91,
     "metadata": {},
     "output_type": "execute_result"
    }
   ],
   "source": [
    "network[0].weight"
   ]
  },
  {
   "cell_type": "code",
   "execution_count": 92,
   "id": "da7ea72e",
   "metadata": {},
   "outputs": [],
   "source": [
    "t = torch.rand(2)\n",
    "o = network(t)\n",
    "o.backward()\n",
    "\n",
    "optimizer = optim.Adam(network.parameters(), lr=.01)\n",
    "optimizer.step()"
   ]
  },
  {
   "cell_type": "code",
   "execution_count": 93,
   "id": "97147100",
   "metadata": {},
   "outputs": [
    {
     "data": {
      "text/plain": [
       "Parameter containing:\n",
       "tensor([[ 0.1569, -0.6200]], requires_grad=True)"
      ]
     },
     "execution_count": 93,
     "metadata": {},
     "output_type": "execute_result"
    }
   ],
   "source": [
    "network[0].weight"
   ]
  },
  {
   "cell_type": "code",
   "execution_count": 94,
   "id": "27643540",
   "metadata": {},
   "outputs": [],
   "source": [
    "torch.manual_seed(50)\n",
    "network[0].reset_parameters()"
   ]
  },
  {
   "cell_type": "code",
   "execution_count": 95,
   "id": "12f88d1c",
   "metadata": {},
   "outputs": [
    {
     "data": {
      "text/plain": [
       "Parameter containing:\n",
       "tensor([[ 0.1669, -0.6100]], requires_grad=True)"
      ]
     },
     "execution_count": 95,
     "metadata": {},
     "output_type": "execute_result"
    }
   ],
   "source": [
    "network[0].weight"
   ]
  },
  {
   "cell_type": "markdown",
   "id": "81232b7a",
   "metadata": {},
   "source": [
    "### All weights layer by layer"
   ]
  },
  {
   "cell_type": "code",
   "execution_count": 96,
   "id": "90111d72",
   "metadata": {},
   "outputs": [
    {
     "data": {
      "text/plain": [
       "Parameter containing:\n",
       "tensor([[-0.6500, -0.1395]], requires_grad=True)"
      ]
     },
     "execution_count": 96,
     "metadata": {},
     "output_type": "execute_result"
    }
   ],
   "source": [
    "network = nn.Sequential(nn.Linear(2,1))\n",
    "network[0].weight"
   ]
  },
  {
   "cell_type": "code",
   "execution_count": 97,
   "id": "1f9450f3",
   "metadata": {},
   "outputs": [],
   "source": [
    "torch.manual_seed(50)\n",
    "for module in network.children():\n",
    "    module.reset_parameters()"
   ]
  },
  {
   "cell_type": "code",
   "execution_count": 98,
   "id": "f387bbd4",
   "metadata": {},
   "outputs": [
    {
     "data": {
      "text/plain": [
       "Parameter containing:\n",
       "tensor([[ 0.1669, -0.6100]], requires_grad=True)"
      ]
     },
     "execution_count": 98,
     "metadata": {},
     "output_type": "execute_result"
    }
   ],
   "source": [
    "network[0].weight"
   ]
  },
  {
   "cell_type": "code",
   "execution_count": 99,
   "id": "fccbd601",
   "metadata": {},
   "outputs": [],
   "source": [
    "network = nn.Sequential(\n",
    "    nn.Linear(2,1),\n",
    "    nn.Softmax()\n",
    ")"
   ]
  },
  {
   "cell_type": "code",
   "execution_count": 100,
   "id": "5489ecab",
   "metadata": {},
   "outputs": [
    {
     "data": {
      "text/plain": [
       "Sequential(\n",
       "  (0): Linear(in_features=2, out_features=1, bias=True)\n",
       "  (1): Softmax(dim=None)\n",
       ")"
      ]
     },
     "execution_count": 100,
     "metadata": {},
     "output_type": "execute_result"
    }
   ],
   "source": [
    "network"
   ]
  },
  {
   "cell_type": "code",
   "execution_count": 101,
   "id": "c8538d41",
   "metadata": {},
   "outputs": [
    {
     "name": "stdout",
     "output_type": "stream",
     "text": [
      "'Softmax' object has no attribute 'reset_parameters'\n"
     ]
    }
   ],
   "source": [
    "try:\n",
    "    torch.manual_seed(50)\n",
    "    for module in network.children():\n",
    "        module.reset_parameters()\n",
    "except Exception as E:\n",
    "    print(E)"
   ]
  },
  {
   "cell_type": "markdown",
   "id": "b3019191",
   "metadata": {},
   "source": [
    "### All weights using snapshot"
   ]
  },
  {
   "cell_type": "code",
   "execution_count": 102,
   "id": "80fa13f5",
   "metadata": {},
   "outputs": [],
   "source": [
    "torch.manual_seed(50)\n",
    "network = nn.Sequential(nn.Linear(2,1))"
   ]
  },
  {
   "cell_type": "code",
   "execution_count": 103,
   "id": "1f8b00f2",
   "metadata": {},
   "outputs": [
    {
     "data": {
      "text/plain": [
       "Parameter containing:\n",
       "tensor([[ 0.1669, -0.6100]], requires_grad=True)"
      ]
     },
     "execution_count": 103,
     "metadata": {},
     "output_type": "execute_result"
    }
   ],
   "source": [
    "network[0].weight"
   ]
  },
  {
   "cell_type": "code",
   "execution_count": 104,
   "id": "39009feb",
   "metadata": {},
   "outputs": [],
   "source": [
    "torch.save(network.state_dict(), \"./network.pt\")"
   ]
  },
  {
   "cell_type": "code",
   "execution_count": 105,
   "id": "d7f4be1e",
   "metadata": {},
   "outputs": [
    {
     "data": {
      "text/plain": [
       "Parameter containing:\n",
       "tensor([[ 0.1669, -0.6100]], requires_grad=True)"
      ]
     },
     "execution_count": 105,
     "metadata": {},
     "output_type": "execute_result"
    }
   ],
   "source": [
    "network[0].weight"
   ]
  },
  {
   "cell_type": "markdown",
   "id": "5bb7b812",
   "metadata": {},
   "source": [
    "### Weights re-initialization"
   ]
  },
  {
   "cell_type": "code",
   "execution_count": 106,
   "id": "296d7493",
   "metadata": {},
   "outputs": [],
   "source": [
    "torch.manual_seed(50)\n",
    "network = nn.Sequential(nn.Linear(2,1))"
   ]
  },
  {
   "cell_type": "code",
   "execution_count": 107,
   "id": "4df2140d",
   "metadata": {},
   "outputs": [
    {
     "data": {
      "text/plain": [
       "Parameter containing:\n",
       "tensor([[ 0.1669, -0.6100]], requires_grad=True)"
      ]
     },
     "execution_count": 107,
     "metadata": {},
     "output_type": "execute_result"
    }
   ],
   "source": [
    "network[0].weight"
   ]
  },
  {
   "cell_type": "code",
   "execution_count": 108,
   "id": "46098250",
   "metadata": {},
   "outputs": [],
   "source": [
    "t= torch.rand(2)\n",
    "o = network(t)\n",
    "o.backward()"
   ]
  },
  {
   "cell_type": "code",
   "execution_count": 109,
   "id": "e7066fc4",
   "metadata": {},
   "outputs": [],
   "source": [
    "optimizer = optim.Adam(network.parameters(), lr=.01)\n",
    "optimizer.step()"
   ]
  },
  {
   "cell_type": "code",
   "execution_count": 110,
   "id": "3feb293a",
   "metadata": {},
   "outputs": [
    {
     "data": {
      "text/plain": [
       "Parameter containing:\n",
       "tensor([[ 0.1569, -0.6200]], requires_grad=True)"
      ]
     },
     "execution_count": 110,
     "metadata": {},
     "output_type": "execute_result"
    }
   ],
   "source": [
    "network[0].weight"
   ]
  },
  {
   "cell_type": "code",
   "execution_count": 111,
   "id": "b9987437",
   "metadata": {},
   "outputs": [],
   "source": [
    "# reinitialization\n",
    "torch.manual_seed(50)\n",
    "network = nn.Sequential(nn.Linear(2,1))"
   ]
  },
  {
   "cell_type": "code",
   "execution_count": 112,
   "id": "adc64988",
   "metadata": {},
   "outputs": [
    {
     "data": {
      "text/plain": [
       "Parameter containing:\n",
       "tensor([[ 0.1669, -0.6100]], requires_grad=True)"
      ]
     },
     "execution_count": 112,
     "metadata": {},
     "output_type": "execute_result"
    }
   ],
   "source": [
    "network[0].weight"
   ]
  },
  {
   "cell_type": "code",
   "execution_count": null,
   "id": "ed9d267a",
   "metadata": {},
   "outputs": [],
   "source": []
  },
  {
   "cell_type": "code",
   "execution_count": null,
   "id": "ea26ad2d",
   "metadata": {},
   "outputs": [],
   "source": []
  },
  {
   "cell_type": "code",
   "execution_count": null,
   "id": "47bc6290",
   "metadata": {},
   "outputs": [],
   "source": []
  },
  {
   "cell_type": "markdown",
   "id": "c26d5d36",
   "metadata": {},
   "source": [
    "# Multiple Networks"
   ]
  },
  {
   "cell_type": "code",
   "execution_count": 113,
   "id": "0e1e324d",
   "metadata": {},
   "outputs": [],
   "source": [
    "class NetworkFactory():\n",
    "    @staticmethod\n",
    "    def get_network(name):\n",
    "        if name == \"network\":\n",
    "            torch.manual_seed(50)\n",
    "            return nn.Sequential(\n",
    "                  nn.Conv2d(in_channels=1, out_channels=6, kernel_size=5)\n",
    "                , nn.ReLU()\n",
    "                , nn.MaxPool2d(kernel_size=2, stride=2)\n",
    "                , nn.Conv2d(in_channels=6, out_channels=12, kernel_size=5)\n",
    "                , nn.ReLU()\n",
    "                , nn.MaxPool2d(kernel_size=2, stride=2)\n",
    "                , nn.Flatten(start_dim=1)  \n",
    "                , nn.Linear(in_features=12*4*4, out_features=120)\n",
    "                , nn.ReLU()\n",
    "                , nn.Linear(in_features=120, out_features=60)\n",
    "                , nn.ReLU()\n",
    "                , nn.Linear(in_features=60, out_features=10)\n",
    "            )\n",
    "        else:\n",
    "            return None"
   ]
  },
  {
   "cell_type": "code",
   "execution_count": 114,
   "id": "77eccc90",
   "metadata": {},
   "outputs": [
    {
     "data": {
      "text/html": [
       "<div>\n",
       "<style scoped>\n",
       "    .dataframe tbody tr th:only-of-type {\n",
       "        vertical-align: middle;\n",
       "    }\n",
       "\n",
       "    .dataframe tbody tr th {\n",
       "        vertical-align: top;\n",
       "    }\n",
       "\n",
       "    .dataframe thead th {\n",
       "        text-align: right;\n",
       "    }\n",
       "</style>\n",
       "<table border=\"1\" class=\"dataframe\">\n",
       "  <thead>\n",
       "    <tr style=\"text-align: right;\">\n",
       "      <th></th>\n",
       "      <th>run</th>\n",
       "      <th>epoch</th>\n",
       "      <th>loss</th>\n",
       "      <th>accuracy</th>\n",
       "      <th>epoch duration</th>\n",
       "      <th>run duration</th>\n",
       "      <th>lr</th>\n",
       "      <th>batch_size</th>\n",
       "      <th>num_workers</th>\n",
       "      <th>device</th>\n",
       "      <th>network</th>\n",
       "    </tr>\n",
       "  </thead>\n",
       "  <tbody>\n",
       "    <tr>\n",
       "      <th>0</th>\n",
       "      <td>1</td>\n",
       "      <td>1</td>\n",
       "      <td>1.026914</td>\n",
       "      <td>0.606883</td>\n",
       "      <td>3.646528</td>\n",
       "      <td>3.949945</td>\n",
       "      <td>0.010</td>\n",
       "      <td>1000</td>\n",
       "      <td>1</td>\n",
       "      <td>cuda</td>\n",
       "      <td>network</td>\n",
       "    </tr>\n",
       "    <tr>\n",
       "      <th>1</th>\n",
       "      <td>1</td>\n",
       "      <td>2</td>\n",
       "      <td>0.554524</td>\n",
       "      <td>0.781700</td>\n",
       "      <td>3.653482</td>\n",
       "      <td>7.664266</td>\n",
       "      <td>0.010</td>\n",
       "      <td>1000</td>\n",
       "      <td>1</td>\n",
       "      <td>cuda</td>\n",
       "      <td>network</td>\n",
       "    </tr>\n",
       "    <tr>\n",
       "      <th>2</th>\n",
       "      <td>1</td>\n",
       "      <td>3</td>\n",
       "      <td>0.461596</td>\n",
       "      <td>0.830450</td>\n",
       "      <td>3.712839</td>\n",
       "      <td>11.432393</td>\n",
       "      <td>0.010</td>\n",
       "      <td>1000</td>\n",
       "      <td>1</td>\n",
       "      <td>cuda</td>\n",
       "      <td>network</td>\n",
       "    </tr>\n",
       "    <tr>\n",
       "      <th>3</th>\n",
       "      <td>1</td>\n",
       "      <td>4</td>\n",
       "      <td>0.408623</td>\n",
       "      <td>0.851517</td>\n",
       "      <td>3.714561</td>\n",
       "      <td>15.196077</td>\n",
       "      <td>0.010</td>\n",
       "      <td>1000</td>\n",
       "      <td>1</td>\n",
       "      <td>cuda</td>\n",
       "      <td>network</td>\n",
       "    </tr>\n",
       "    <tr>\n",
       "      <th>4</th>\n",
       "      <td>1</td>\n",
       "      <td>5</td>\n",
       "      <td>0.374598</td>\n",
       "      <td>0.863033</td>\n",
       "      <td>3.715599</td>\n",
       "      <td>18.988585</td>\n",
       "      <td>0.010</td>\n",
       "      <td>1000</td>\n",
       "      <td>1</td>\n",
       "      <td>cuda</td>\n",
       "      <td>network</td>\n",
       "    </tr>\n",
       "    <tr>\n",
       "      <th>5</th>\n",
       "      <td>2</td>\n",
       "      <td>1</td>\n",
       "      <td>1.562656</td>\n",
       "      <td>0.497350</td>\n",
       "      <td>3.516679</td>\n",
       "      <td>3.819836</td>\n",
       "      <td>0.001</td>\n",
       "      <td>1000</td>\n",
       "      <td>1</td>\n",
       "      <td>cuda</td>\n",
       "      <td>network</td>\n",
       "    </tr>\n",
       "    <tr>\n",
       "      <th>6</th>\n",
       "      <td>2</td>\n",
       "      <td>2</td>\n",
       "      <td>0.736826</td>\n",
       "      <td>0.714400</td>\n",
       "      <td>3.540333</td>\n",
       "      <td>7.422279</td>\n",
       "      <td>0.001</td>\n",
       "      <td>1000</td>\n",
       "      <td>1</td>\n",
       "      <td>cuda</td>\n",
       "      <td>network</td>\n",
       "    </tr>\n",
       "    <tr>\n",
       "      <th>7</th>\n",
       "      <td>2</td>\n",
       "      <td>3</td>\n",
       "      <td>0.634179</td>\n",
       "      <td>0.752350</td>\n",
       "      <td>3.430017</td>\n",
       "      <td>10.906043</td>\n",
       "      <td>0.001</td>\n",
       "      <td>1000</td>\n",
       "      <td>1</td>\n",
       "      <td>cuda</td>\n",
       "      <td>network</td>\n",
       "    </tr>\n",
       "    <tr>\n",
       "      <th>8</th>\n",
       "      <td>2</td>\n",
       "      <td>4</td>\n",
       "      <td>0.578988</td>\n",
       "      <td>0.776950</td>\n",
       "      <td>3.530773</td>\n",
       "      <td>14.486950</td>\n",
       "      <td>0.001</td>\n",
       "      <td>1000</td>\n",
       "      <td>1</td>\n",
       "      <td>cuda</td>\n",
       "      <td>network</td>\n",
       "    </tr>\n",
       "    <tr>\n",
       "      <th>9</th>\n",
       "      <td>2</td>\n",
       "      <td>5</td>\n",
       "      <td>0.539403</td>\n",
       "      <td>0.794267</td>\n",
       "      <td>3.413850</td>\n",
       "      <td>17.949183</td>\n",
       "      <td>0.001</td>\n",
       "      <td>1000</td>\n",
       "      <td>1</td>\n",
       "      <td>cuda</td>\n",
       "      <td>network</td>\n",
       "    </tr>\n",
       "  </tbody>\n",
       "</table>\n",
       "</div>"
      ],
      "text/plain": [
       "   run  epoch      loss  accuracy  epoch duration  run duration     lr  \\\n",
       "0    1      1  1.026914  0.606883        3.646528      3.949945  0.010   \n",
       "1    1      2  0.554524  0.781700        3.653482      7.664266  0.010   \n",
       "2    1      3  0.461596  0.830450        3.712839     11.432393  0.010   \n",
       "3    1      4  0.408623  0.851517        3.714561     15.196077  0.010   \n",
       "4    1      5  0.374598  0.863033        3.715599     18.988585  0.010   \n",
       "5    2      1  1.562656  0.497350        3.516679      3.819836  0.001   \n",
       "6    2      2  0.736826  0.714400        3.540333      7.422279  0.001   \n",
       "7    2      3  0.634179  0.752350        3.430017     10.906043  0.001   \n",
       "8    2      4  0.578988  0.776950        3.530773     14.486950  0.001   \n",
       "9    2      5  0.539403  0.794267        3.413850     17.949183  0.001   \n",
       "\n",
       "   batch_size  num_workers device  network  \n",
       "0        1000            1   cuda  network  \n",
       "1        1000            1   cuda  network  \n",
       "2        1000            1   cuda  network  \n",
       "3        1000            1   cuda  network  \n",
       "4        1000            1   cuda  network  \n",
       "5        1000            1   cuda  network  \n",
       "6        1000            1   cuda  network  \n",
       "7        1000            1   cuda  network  \n",
       "8        1000            1   cuda  network  \n",
       "9        1000            1   cuda  network  "
      ]
     },
     "metadata": {},
     "output_type": "display_data"
    }
   ],
   "source": [
    "params = OrderedDict(\n",
    "    lr = [.01, .001]\n",
    "    , batch_size = [1000]\n",
    "    , num_workers = [1]\n",
    "    , device = ['cuda']\n",
    "    , network = ['network']\n",
    ")\n",
    "m = RunManager()\n",
    "for run in RunBuilder.get_runs(params):\n",
    "\n",
    "    device = torch.device(run.device)\n",
    "    network = NetworkFactory.get_network(run.network).to(device)\n",
    "    loader = DataLoader(train_set, batch_size=run.batch_size, num_workers=run.num_workers)\n",
    "    optimizer = optim.Adam(network.parameters(), lr=run.lr)\n",
    "    \n",
    "    m.begin_run(run, network, loader)\n",
    "    for epoch in range(5):\n",
    "        m.begin_epoch()\n",
    "        for batch in loader:\n",
    "            \n",
    "            images = batch[0].to(device)\n",
    "            labels = batch[1].to(device)\n",
    "            preds = network(images) # Pass Batch\n",
    "            loss = F.cross_entropy(preds, labels) # Calculate Loss\n",
    "            optimizer.zero_grad() # Zero Gradients\n",
    "            loss.backward() # Calculate Gradients\n",
    "            optimizer.step() # Update Weights\n",
    "            \n",
    "            m.track_loss(loss, batch)\n",
    "            m.track_num_correct(preds, labels)\n",
    "        m.end_epoch()\n",
    "    m.end_run()\n",
    "m.save('results')"
   ]
  },
  {
   "cell_type": "code",
   "execution_count": null,
   "id": "2e1fe4f1",
   "metadata": {},
   "outputs": [],
   "source": []
  },
  {
   "cell_type": "code",
   "execution_count": null,
   "id": "d48c0097",
   "metadata": {},
   "outputs": [],
   "source": []
  },
  {
   "cell_type": "code",
   "execution_count": null,
   "id": "c3f3d20c",
   "metadata": {},
   "outputs": [],
   "source": []
  },
  {
   "cell_type": "markdown",
   "id": "344b2cf1",
   "metadata": {},
   "source": [
    "# PyTorch Hooks"
   ]
  },
  {
   "cell_type": "code",
   "execution_count": 115,
   "id": "c2d57a53",
   "metadata": {},
   "outputs": [],
   "source": [
    "import torch\n",
    "import torch.nn as nn\n",
    "import torch.optim as optim\n",
    "import torch.nn.functional as F\n",
    "import torchvision\n",
    "import torchvision.transforms as transforms\n",
    "from torch.utils.data import DataLoader"
   ]
  },
  {
   "cell_type": "code",
   "execution_count": 116,
   "id": "1c1c6350",
   "metadata": {},
   "outputs": [],
   "source": [
    "import matplotlib.pyplot as plt"
   ]
  },
  {
   "cell_type": "code",
   "execution_count": 117,
   "id": "bb217c89",
   "metadata": {},
   "outputs": [],
   "source": [
    "feature_maps = []\n",
    "network1 = Network()"
   ]
  },
  {
   "cell_type": "code",
   "execution_count": 118,
   "id": "6889329b",
   "metadata": {},
   "outputs": [
    {
     "data": {
      "text/plain": [
       "Network(\n",
       "  (conv1): Conv2d(1, 6, kernel_size=(5, 5), stride=(1, 1))\n",
       "  (conv2): Conv2d(6, 12, kernel_size=(5, 5), stride=(1, 1))\n",
       "  (fc1): Linear(in_features=192, out_features=120, bias=True)\n",
       "  (fc2): Linear(in_features=120, out_features=60, bias=True)\n",
       "  (out): Linear(in_features=60, out_features=10, bias=True)\n",
       ")"
      ]
     },
     "execution_count": 118,
     "metadata": {},
     "output_type": "execute_result"
    }
   ],
   "source": [
    "network1"
   ]
  },
  {
   "cell_type": "code",
   "execution_count": null,
   "id": "8543ec9e",
   "metadata": {},
   "outputs": [],
   "source": []
  },
  {
   "cell_type": "code",
   "execution_count": null,
   "id": "51bfd285",
   "metadata": {},
   "outputs": [],
   "source": []
  },
  {
   "cell_type": "code",
   "execution_count": null,
   "id": "108aa255",
   "metadata": {},
   "outputs": [],
   "source": []
  },
  {
   "cell_type": "code",
   "execution_count": null,
   "id": "48826251",
   "metadata": {},
   "outputs": [],
   "source": []
  },
  {
   "cell_type": "code",
   "execution_count": null,
   "id": "0d0924be",
   "metadata": {},
   "outputs": [],
   "source": []
  },
  {
   "cell_type": "code",
   "execution_count": null,
   "id": "8959e091",
   "metadata": {},
   "outputs": [],
   "source": []
  },
  {
   "cell_type": "code",
   "execution_count": null,
   "id": "0d69f43a",
   "metadata": {},
   "outputs": [],
   "source": []
  },
  {
   "cell_type": "code",
   "execution_count": null,
   "id": "3849c97e",
   "metadata": {},
   "outputs": [],
   "source": []
  },
  {
   "cell_type": "code",
   "execution_count": null,
   "id": "bbe31885",
   "metadata": {},
   "outputs": [],
   "source": []
  },
  {
   "cell_type": "code",
   "execution_count": null,
   "id": "7ce3caf5",
   "metadata": {},
   "outputs": [],
   "source": []
  },
  {
   "cell_type": "code",
   "execution_count": null,
   "id": "6a1aae75",
   "metadata": {},
   "outputs": [],
   "source": []
  },
  {
   "cell_type": "code",
   "execution_count": null,
   "id": "f1d11d24",
   "metadata": {},
   "outputs": [],
   "source": []
  },
  {
   "cell_type": "code",
   "execution_count": null,
   "id": "9963b25f",
   "metadata": {},
   "outputs": [],
   "source": []
  },
  {
   "cell_type": "code",
   "execution_count": null,
   "id": "7d074603",
   "metadata": {},
   "outputs": [],
   "source": []
  },
  {
   "cell_type": "code",
   "execution_count": null,
   "id": "941d5be9",
   "metadata": {},
   "outputs": [],
   "source": []
  },
  {
   "cell_type": "code",
   "execution_count": null,
   "id": "cc0e72b2",
   "metadata": {},
   "outputs": [],
   "source": []
  },
  {
   "cell_type": "code",
   "execution_count": null,
   "id": "8039aad0",
   "metadata": {},
   "outputs": [],
   "source": []
  },
  {
   "cell_type": "code",
   "execution_count": null,
   "id": "1ddc428b",
   "metadata": {},
   "outputs": [],
   "source": []
  },
  {
   "cell_type": "code",
   "execution_count": null,
   "id": "cb30365d",
   "metadata": {},
   "outputs": [],
   "source": []
  },
  {
   "cell_type": "code",
   "execution_count": null,
   "id": "c08fb7ad",
   "metadata": {},
   "outputs": [],
   "source": []
  },
  {
   "cell_type": "code",
   "execution_count": null,
   "id": "f6ff1888",
   "metadata": {},
   "outputs": [],
   "source": []
  },
  {
   "cell_type": "code",
   "execution_count": null,
   "id": "c5712d2b",
   "metadata": {},
   "outputs": [],
   "source": []
  },
  {
   "cell_type": "code",
   "execution_count": null,
   "id": "c4142f7d",
   "metadata": {},
   "outputs": [],
   "source": []
  },
  {
   "cell_type": "code",
   "execution_count": null,
   "id": "f17f6bd2",
   "metadata": {},
   "outputs": [],
   "source": []
  },
  {
   "cell_type": "code",
   "execution_count": null,
   "id": "2ef74f20",
   "metadata": {},
   "outputs": [],
   "source": []
  },
  {
   "cell_type": "code",
   "execution_count": null,
   "id": "71742b01",
   "metadata": {},
   "outputs": [],
   "source": []
  },
  {
   "cell_type": "code",
   "execution_count": null,
   "id": "5e3886b6",
   "metadata": {},
   "outputs": [],
   "source": []
  },
  {
   "cell_type": "code",
   "execution_count": null,
   "id": "062383de",
   "metadata": {},
   "outputs": [],
   "source": []
  },
  {
   "cell_type": "code",
   "execution_count": null,
   "id": "59a2d865",
   "metadata": {},
   "outputs": [],
   "source": []
  },
  {
   "cell_type": "code",
   "execution_count": null,
   "id": "bfb6ff9b",
   "metadata": {},
   "outputs": [],
   "source": []
  },
  {
   "cell_type": "code",
   "execution_count": null,
   "id": "4eb7d006",
   "metadata": {},
   "outputs": [],
   "source": []
  },
  {
   "cell_type": "code",
   "execution_count": null,
   "id": "be166ccc",
   "metadata": {},
   "outputs": [],
   "source": []
  },
  {
   "cell_type": "code",
   "execution_count": null,
   "id": "6520b035",
   "metadata": {},
   "outputs": [],
   "source": []
  },
  {
   "cell_type": "code",
   "execution_count": null,
   "id": "4954edf5",
   "metadata": {},
   "outputs": [],
   "source": []
  },
  {
   "cell_type": "code",
   "execution_count": null,
   "id": "20b07e49",
   "metadata": {},
   "outputs": [],
   "source": []
  },
  {
   "cell_type": "code",
   "execution_count": null,
   "id": "dfa0c354",
   "metadata": {},
   "outputs": [],
   "source": []
  },
  {
   "cell_type": "code",
   "execution_count": null,
   "id": "b313c98d",
   "metadata": {},
   "outputs": [],
   "source": []
  },
  {
   "cell_type": "code",
   "execution_count": null,
   "id": "dc715fbc",
   "metadata": {},
   "outputs": [],
   "source": []
  },
  {
   "cell_type": "code",
   "execution_count": null,
   "id": "f088bae9",
   "metadata": {},
   "outputs": [],
   "source": []
  },
  {
   "cell_type": "code",
   "execution_count": null,
   "id": "4d31e9e3",
   "metadata": {},
   "outputs": [],
   "source": []
  },
  {
   "cell_type": "code",
   "execution_count": null,
   "id": "454cf385",
   "metadata": {},
   "outputs": [],
   "source": []
  },
  {
   "cell_type": "code",
   "execution_count": null,
   "id": "8a67b940",
   "metadata": {},
   "outputs": [],
   "source": []
  },
  {
   "cell_type": "code",
   "execution_count": null,
   "id": "df3dc82e",
   "metadata": {},
   "outputs": [],
   "source": []
  },
  {
   "cell_type": "code",
   "execution_count": null,
   "id": "6d525692",
   "metadata": {},
   "outputs": [],
   "source": []
  },
  {
   "cell_type": "code",
   "execution_count": null,
   "id": "b43c09bc",
   "metadata": {},
   "outputs": [],
   "source": []
  },
  {
   "cell_type": "code",
   "execution_count": null,
   "id": "75c25703",
   "metadata": {},
   "outputs": [],
   "source": []
  },
  {
   "cell_type": "code",
   "execution_count": null,
   "id": "3f4ea589",
   "metadata": {},
   "outputs": [],
   "source": []
  },
  {
   "cell_type": "code",
   "execution_count": null,
   "id": "2a4dfc56",
   "metadata": {},
   "outputs": [],
   "source": []
  },
  {
   "cell_type": "code",
   "execution_count": null,
   "id": "8f9e29e5",
   "metadata": {},
   "outputs": [],
   "source": []
  },
  {
   "cell_type": "code",
   "execution_count": null,
   "id": "d9c430be",
   "metadata": {},
   "outputs": [],
   "source": []
  }
 ],
 "metadata": {
  "kernelspec": {
   "display_name": "Python 3 (ipykernel)",
   "language": "python",
   "name": "python3"
  },
  "language_info": {
   "codemirror_mode": {
    "name": "ipython",
    "version": 3
   },
   "file_extension": ".py",
   "mimetype": "text/x-python",
   "name": "python",
   "nbconvert_exporter": "python",
   "pygments_lexer": "ipython3",
   "version": "3.11.3"
  }
 },
 "nbformat": 4,
 "nbformat_minor": 5
}
